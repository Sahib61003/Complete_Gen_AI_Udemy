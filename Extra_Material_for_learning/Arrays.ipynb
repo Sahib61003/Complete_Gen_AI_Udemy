{
 "cells": [
  {
   "cell_type": "markdown",
   "metadata": {},
   "source": [
    "## Arrays\n",
    "\n",
    "- An array is a collection of elements that are stored at contiguous memory locations. It is a container of similar items placed in contiguous memory  locations.\n",
    "- Ways to Implement:\n",
    "    - Using Lists\n",
    "    - Using Arrays module \n",
    "    - Using NumPy array module\n",
    "\n",
    "\n"
   ]
  },
  {
   "cell_type": "code",
   "execution_count": 4,
   "metadata": {},
   "outputs": [
    {
     "name": "stdout",
     "output_type": "stream",
     "text": [
      "array('i', [1, 2, 3, 4, 5])\n",
      "array('d', [1.2, 3.4, 4.0, 2.5, 3.7, 8.0])\n"
     ]
    }
   ],
   "source": [
    "# Importing\n",
    "import array as arr\n",
    "\n",
    "array1 = arr.array('i', [1,2,3,4,5]) # i refers to integer value (typecode)\n",
    "print(array1)\n",
    "\n",
    "array2 = arr.array('d', [1.2, 3.4, 4.0, 2.5, 3.7, 8.0])\n",
    "print(array2)\n",
    "\n"
   ]
  },
  {
   "cell_type": "code",
   "execution_count": 5,
   "metadata": {},
   "outputs": [
    {
     "name": "stdout",
     "output_type": "stream",
     "text": [
      "5\n",
      "6\n"
     ]
    }
   ],
   "source": [
    "# length of array\n",
    "print(len(array1))\n",
    "print(len(array2))"
   ]
  },
  {
   "cell_type": "code",
   "execution_count": 10,
   "metadata": {},
   "outputs": [
    {
     "name": "stdout",
     "output_type": "stream",
     "text": [
      "Elements of Array1: \n",
      "1 2 3 4 5 \n",
      "Elements of Array2: \n",
      "1.2 3.4 4.0 2.5 3.7 8.0 "
     ]
    }
   ],
   "source": [
    "# Accessing elements:\n",
    "\n",
    "print(\"Elements of Array1: \")\n",
    "for i in range(0, len(array1)): # Using for loop to iterate over each element of array.\n",
    "    print(array1[i], end=\" \") # giving end =\" \" to get answer in same row.\n",
    "print()\n",
    "\n",
    "print(\"Elements of Array2: \")\n",
    "for i in range(0, len(array2)):\n",
    "    print(array2[i], end=\" \")\n"
   ]
  },
  {
   "cell_type": "markdown",
   "metadata": {},
   "source": [
    "**Indexing:**\n",
    "\n",
    "- Indexing is the way to access the elements of an array.\n",
    "- Indexing starts from 0\n",
    "- Negative indexing is also possible    "
   ]
  },
  {
   "cell_type": "code",
   "execution_count": 19,
   "metadata": {},
   "outputs": [
    {
     "name": "stdout",
     "output_type": "stream",
     "text": [
      "array('i', [1, 4, 7, 10, 13, 16, 19, 22, 25, 28, 31, 34, 37, 40, 43, 46, 49, 52, 55, 58, 61, 64, 67, 70, 73, 76, 79, 82, 85, 88, 91, 94, 97, 100])\n",
      "Elements of the array: \n",
      "1 4 7 10 13 16 19 22 25 28 31 34 37 40 43 46 49 52 55 58 61 64 67 70 73 76 79 82 85 88 91 94 97 100 \n",
      "73\n",
      "1\n",
      "25\n",
      "100\n"
     ]
    }
   ],
   "source": [
    "# Example:\n",
    "x = arr.array('i', range(1,101,3)) # instead of writing numbers, used range function to make an array\n",
    "print(x)\n",
    "\n",
    "# printing array\n",
    "print(\"Elements of the array: \")\n",
    "for i in range(0, len(x)):\n",
    "    print(x[i], end=\" \") \n",
    "print()\n",
    "\n",
    "print(x[24])\n",
    "print(x[0])\n",
    "print(x[8])\n",
    "print(x[-1])\n",
    "\n"
   ]
  },
  {
   "cell_type": "code",
   "execution_count": 24,
   "metadata": {},
   "outputs": [
    {
     "name": "stdout",
     "output_type": "stream",
     "text": [
      "array('i', [2, 3, 4, 5, 6, 7, 8, 9, 10, 11, 12, 13, 14, 15, 16, 17, 18, 19])\n",
      "array('i', [1, 2, 3, 4, 5, 6, 7, 8, 9, 10, 11, 12, 13, 14, 15, 16, 17, 18, 19])\n",
      "array('i', [1, 2, 3, 4, 5, 6, 7, 8, 9, 10, 11, 11, 12, 13, 14, 15, 16, 17, 18, 19])\n",
      "array('i', [1, 2, 3, 4, 5, 6, 7, 8, 9, 10, 11, 11, 12, 13, 14, 15, 16, 17, 18, 19, 20])\n"
     ]
    }
   ],
   "source": [
    "# Add elements in an Array\n",
    "\n",
    "new_arr = arr.array('i', [i for i in range(2,20)])\n",
    "print(new_arr)\n",
    "\n",
    "# using insert\n",
    "new_arr.insert(0,1)\n",
    "print(new_arr)\n",
    "\n",
    "new_arr.insert(10,11) # (Position, ELement)\n",
    "print(new_arr)\n",
    "\n",
    "# using append\n",
    "new_arr.append(20)\n",
    "print(new_arr)\n",
    "\n"
   ]
  },
  {
   "cell_type": "code",
   "execution_count": 31,
   "metadata": {},
   "outputs": [
    {
     "name": "stdout",
     "output_type": "stream",
     "text": [
      "array('i', [1, 2, 2, 4, 5])\n",
      "array('i', [1, 2, 3, 4, 5])\n"
     ]
    }
   ],
   "source": [
    "#Updating element value\n",
    "new = arr.array('i', [1,2,2,4,5])\n",
    "print(new)\n",
    "\n",
    "new[2] = 3\n",
    "print(new)"
   ]
  },
  {
   "cell_type": "code",
   "execution_count": 32,
   "metadata": {},
   "outputs": [
    {
     "name": "stdout",
     "output_type": "stream",
     "text": [
      "array('i', [1, 2, 3, 4])\n",
      "array('i', [1, 2, 3])\n"
     ]
    }
   ],
   "source": [
    "# Deleting elements in an array\n",
    "new.pop() #by default last element delete, but can provide index number as paramater in function\n",
    "print(new)\n",
    "\n",
    "new.remove(4) # remove element by value\n",
    "print(new)"
   ]
  },
  {
   "cell_type": "markdown",
   "metadata": {},
   "source": [
    "**Slicing**\n",
    "\n",
    "- Slicing is the way to access a range of elements in an array.\n",
    "- Syntax: array[start:stop:step]\n"
   ]
  },
  {
   "cell_type": "code",
   "execution_count": 38,
   "metadata": {},
   "outputs": [
    {
     "name": "stdout",
     "output_type": "stream",
     "text": [
      "array('i', [1, 5, 9, 13, 17, 21, 25, 29, 33, 37, 41, 45, 49, 53, 57, 61, 65, 69, 73, 77, 81, 85, 89, 93, 97])\n",
      "array('i', [1, 5, 9, 13, 17, 21, 25, 29])\n",
      "array('i', [33, 37, 41, 45, 49, 53, 57, 61])\n",
      "array('i', [65, 69, 73, 77, 81, 85, 89, 93, 97])\n",
      "array('i', [97, 93, 89, 85, 81, 77, 73, 69, 65, 61, 57, 53, 49, 45, 41, 37, 33, 29, 25, 21, 17, 13, 9, 5, 1])\n",
      "array('i', [97, 93, 89, 85, 81, 77, 73, 69, 65, 61, 57, 53, 49, 45, 41, 37, 33, 29, 25, 21, 17, 13, 9, 5, 1])\n"
     ]
    }
   ],
   "source": [
    "x = arr.array('i', list(range(1,101,4)))\n",
    "print(x)\n",
    "\n",
    "arr0 = x[:8]\n",
    "print(arr0)\n",
    "\n",
    "arr1 = x[8:16]\n",
    "print(arr1)\n",
    "\n",
    "arr2 = x[16:]\n",
    "print(arr2)\n",
    "\n",
    "#Reversing:\n",
    "x.reverse()\n",
    "print(x)\n",
    "\n",
    "x[::-1]\n",
    "print(x)\n",
    "\n"
   ]
  },
  {
   "cell_type": "code",
   "execution_count": 43,
   "metadata": {},
   "outputs": [
    {
     "name": "stdout",
     "output_type": "stream",
     "text": [
      "array('i', [1, 3, 5, 7, 9, 11, 13, 15, 17, 19, 21, 23, 25, 27, 29, 31, 33, 35, 37, 39, 41, 43, 45, 47, 49, 51, 53, 55, 57, 59, 61, 63, 65, 67, 69, 71, 73, 75, 77, 79, 81, 83, 85, 87, 89, 91, 93, 95, 97, 99, 101, 103, 105, 107, 109, 111, 113, 115, 117, 119, 121, 123, 125, 127, 129, 131, 133, 135, 137, 139, 141, 143, 145, 147, 149, 151, 153, 155, 157, 159, 161, 163, 165, 167, 169, 171, 173, 175, 177, 179, 181, 183, 185, 187, 189, 191, 193, 195, 197, 199, 201, 203, 205, 207, 209, 211, 213, 215, 217, 219, 221, 223, 225, 227, 229, 231, 233, 235, 237, 239, 241, 243, 245, 247, 249, 251, 253, 255, 257, 259, 261, 263, 265, 267, 269, 271, 273, 275, 277, 279, 281, 283, 285, 287, 289, 291, 293, 295, 297, 299, 301, 303, 305, 307, 309, 311, 313, 315, 317, 319, 321, 323, 325, 327, 329, 331, 333, 335, 337, 339, 341, 343, 345, 347, 349, 351, 353, 355, 357, 359, 361, 363, 365, 367, 369, 371, 373, 375, 377, 379, 381, 383, 385, 387, 389, 391, 393, 395, 397, 399, 401, 403, 405, 407, 409, 411, 413, 415, 417, 419, 421, 423, 425, 427, 429, 431, 433, 435, 437, 439, 441, 443, 445, 447, 449, 451, 453, 455, 457, 459, 461, 463, 465, 467, 469, 471, 473, 475, 477, 479, 481, 483, 485, 487, 489, 491, 493, 495, 497, 499, 501, 503, 505, 507, 509, 511, 513, 515, 517, 519, 521, 523, 525, 527, 529, 531, 533, 535, 537, 539, 541, 543, 545, 547, 549, 551, 553, 555, 557, 559, 561, 563, 565, 567, 569, 571, 573, 575, 577, 579, 581, 583, 585, 587, 589, 591, 593, 595, 597, 599, 601, 603, 605, 607, 609, 611, 613, 615, 617, 619, 621, 623, 625, 627, 629, 631, 633, 635, 637, 639, 641, 643, 645, 647, 649, 651, 653, 655, 657, 659, 661, 663, 665, 667, 669, 671, 673, 675, 677, 679, 681, 683, 685, 687, 689, 691, 693, 695, 697, 699, 701, 703, 705, 707, 709, 711, 713, 715, 717, 719, 721, 723, 725, 727, 729, 731, 733, 735, 737, 739, 741, 743, 745, 747, 749, 751, 753, 755, 757, 759, 761, 763, 765, 767, 769, 771, 773, 775, 777, 779, 781, 783, 785, 787, 789, 791, 793, 795, 797, 799, 801, 803, 805, 807, 809, 811, 813, 815, 817, 819, 821, 823, 825, 827, 829, 831, 833, 835, 837, 839, 841, 843, 845, 847, 849, 851, 853, 855, 857, 859, 861, 863, 865, 867, 869, 871, 873, 875, 877, 879, 881, 883, 885, 887, 889, 891, 893, 895, 897, 899, 901, 903, 905, 907, 909, 911, 913, 915, 917, 919, 921, 923, 925, 927, 929, 931, 933, 935, 937, 939, 941, 943, 945, 947, 949, 951, 953, 955, 957, 959, 961, 963, 965, 967, 969, 971, 973, 975, 977, 979, 981, 983, 985, 987, 989, 991, 993, 995, 997, 999])\n",
      "500\n",
      "1 3 5 7 9 11 13 15 17 19 \n",
      "1 3 5 7 9 11 13 15 17 19 \n",
      "252\n"
     ]
    }
   ],
   "source": [
    "# Searching elements in an array:\n",
    "x = arr.array('i', list(range(1,1000,2)))\n",
    "print(x)\n",
    "\n",
    "print(len(x))\n",
    "\n",
    "#first 10 elements\n",
    "for i in range(0,len(x[:10])):\n",
    "    print(x[i], end=\" \")\n",
    "print()\n",
    "\n",
    "#last 10 elements\n",
    "for i in range(0,len(x[-10:])):\n",
    "    print(x[i], end=\" \")\n",
    "print()\n",
    "\n",
    "#searching element\n",
    "# search for number 505's index\n",
    "print(x.index(505))\n",
    "\n",
    "\n",
    "\n",
    "\n"
   ]
  },
  {
   "cell_type": "code",
   "execution_count": 49,
   "metadata": {},
   "outputs": [
    {
     "name": "stdout",
     "output_type": "stream",
     "text": [
      "array('i', [4, 2, 5, 1, 3, 6, 7, 9, 8])\n",
      "array('i', [1, 2, 3, 4, 5, 6, 7, 8, 9])\n",
      "<class 'array.array'>\n"
     ]
    }
   ],
   "source": [
    "#Sorting:\n",
    "\n",
    "x = arr.array('i', [4,2,5,1,3,6,7,9,8])\n",
    "print(x)\n",
    "\n",
    "x = arr.array('i', sorted(x)) #so not to convert into list\n",
    "print(x)\n",
    "\n",
    "print(type(x))\n"
   ]
  },
  {
   "cell_type": "markdown",
   "metadata": {},
   "source": [
    "-----------------------------------------------------------------------------------------------------------------------------------------------"
   ]
  },
  {
   "cell_type": "code",
   "execution_count": 52,
   "metadata": {},
   "outputs": [
    {
     "name": "stdout",
     "output_type": "stream",
     "text": [
      "[1 2 3 4 5]\n",
      "[[1 2 3]\n",
      " [4 5 6]\n",
      " [7 8 9]]\n"
     ]
    }
   ],
   "source": [
    "#Importing Numpy\n",
    "\n",
    "import numpy as np\n",
    "\n",
    "#Creating an array\n",
    "arr = np.array([1,2,3,4,5])\n",
    "print(arr)\n",
    "\n",
    "#Creating a 2D array\n",
    "arr2d = np.array(\n",
    "    [[1,2,3],[4,5,6],[7,8,9]]\n",
    "    )\n",
    "print(arr2d)"
   ]
  },
  {
   "cell_type": "code",
   "execution_count": null,
   "metadata": {},
   "outputs": [],
   "source": []
  }
 ],
 "metadata": {
  "kernelspec": {
   "display_name": "Python 3",
   "language": "python",
   "name": "python3"
  },
  "language_info": {
   "codemirror_mode": {
    "name": "ipython",
    "version": 3
   },
   "file_extension": ".py",
   "mimetype": "text/x-python",
   "name": "python",
   "nbconvert_exporter": "python",
   "pygments_lexer": "ipython3",
   "version": "3.12.0"
  }
 },
 "nbformat": 4,
 "nbformat_minor": 2
}
