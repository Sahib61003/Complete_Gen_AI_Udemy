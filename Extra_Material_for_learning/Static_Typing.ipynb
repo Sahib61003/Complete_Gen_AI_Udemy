{
 "cells": [
  {
   "cell_type": "code",
   "execution_count": null,
   "metadata": {},
   "outputs": [],
   "source": [
    "pip install pyre-check"
   ]
  },
  {
   "cell_type": "code",
   "execution_count": 1,
   "metadata": {},
   "outputs": [
    {
     "name": "stdout",
     "output_type": "stream",
     "text": [
      "Collecting mypyNote: you may need to restart the kernel to use updated packages.\n",
      "\n",
      "  Downloading mypy-1.11.1-cp312-cp312-win_amd64.whl.metadata (2.0 kB)\n",
      "Requirement already satisfied: typing-extensions>=4.6.0 in c:\\complete_gen_ai_udemy\\venv\\lib\\site-packages (from mypy) (4.12.2)\n",
      "Collecting mypy-extensions>=1.0.0 (from mypy)\n",
      "  Using cached mypy_extensions-1.0.0-py3-none-any.whl.metadata (1.1 kB)\n",
      "Downloading mypy-1.11.1-cp312-cp312-win_amd64.whl (9.7 MB)\n",
      "   ---------------------------------------- 0.0/9.7 MB ? eta -:--:--\n",
      "   -- ------------------------------------- 0.5/9.7 MB 11.1 MB/s eta 0:00:01\n",
      "   ------ --------------------------------- 1.7/9.7 MB 15.1 MB/s eta 0:00:01\n",
      "   --------- ------------------------------ 2.4/9.7 MB 15.2 MB/s eta 0:00:01\n",
      "   ----------- ---------------------------- 2.8/9.7 MB 12.9 MB/s eta 0:00:01\n",
      "   -------------- ------------------------- 3.4/9.7 MB 12.8 MB/s eta 0:00:01\n",
      "   ------------------ --------------------- 4.5/9.7 MB 14.5 MB/s eta 0:00:01\n",
      "   ------------------------ --------------- 5.8/9.7 MB 16.2 MB/s eta 0:00:01\n",
      "   ------------------------------ --------- 7.4/9.7 MB 18.2 MB/s eta 0:00:01\n",
      "   -------------------------------------- - 9.4/9.7 MB 20.8 MB/s eta 0:00:01\n",
      "   ---------------------------------------  9.7/9.7 MB 20.6 MB/s eta 0:00:01\n",
      "   ---------------------------------------- 9.7/9.7 MB 18.7 MB/s eta 0:00:00\n",
      "Using cached mypy_extensions-1.0.0-py3-none-any.whl (4.7 kB)\n",
      "Installing collected packages: mypy-extensions, mypy\n",
      "Successfully installed mypy-1.11.1 mypy-extensions-1.0.0\n"
     ]
    }
   ],
   "source": [
    "pip install mypy\n"
   ]
  },
  {
   "cell_type": "code",
   "execution_count": 16,
   "metadata": {},
   "outputs": [
    {
     "name": "stdout",
     "output_type": "stream",
     "text": [
      "Collecting typing\n",
      "  Downloading typing-3.7.4.3.tar.gz (78 kB)\n",
      "     ---------------------------------------- 0.0/78.6 kB ? eta -:--:--\n",
      "     ---------------------------------------- 78.6/78.6 kB 4.6 MB/s eta 0:00:00\n",
      "  Preparing metadata (setup.py): started\n",
      "  Preparing metadata (setup.py): finished with status 'done'\n",
      "Building wheels for collected packages: typing\n",
      "  Building wheel for typing (setup.py): started\n",
      "  Building wheel for typing (setup.py): finished with status 'done'\n",
      "  Created wheel for typing: filename=typing-3.7.4.3-py3-none-any.whl size=26327 sha256=bd85746d0aa8dd6575a114daaef742b8a55204ec2c155b290d8047a127686c14\n",
      "  Stored in directory: c:\\users\\sahib preet singh\\appdata\\local\\pip\\cache\\wheels\\12\\98\\52\\2bffe242a9a487f00886e43b8ed8dac46456702e11a0d6abef\n",
      "Successfully built typing\n",
      "Installing collected packages: typing\n",
      "Successfully installed typing-3.7.4.3\n",
      "Note: you may need to restart the kernel to use updated packages.\n"
     ]
    }
   ],
   "source": [
    "pip install typing"
   ]
  },
  {
   "cell_type": "markdown",
   "metadata": {},
   "source": [
    "# Static Typing:\n",
    "- Static typing is actually a powerful tool to help in catching bugs before they happen. It can also help you understand the code we are working with, and make it easier to maintain and refactor.\n",
    "\n",
    "## Type Checkers:\n",
    "- Type checkers are tools that help us to catch type errors before we run our code. Its types are:\n",
    "    - Mypy\n",
    "    - typing\n",
    "    - Pyright\n",
    "    - Pyre\n",
    "    - Pydantic\n",
    "    \n"
   ]
  },
  {
   "cell_type": "markdown",
   "metadata": {},
   "source": [
    "**MYPY** : Syntax : mypy {Filepath} --strict\n",
    "Eg: mypy Extra_Material_for_learning\\Static_Typing.ipynb --strict"
   ]
  },
  {
   "cell_type": "code",
   "execution_count": 15,
   "metadata": {},
   "outputs": [
    {
     "data": {
      "text/plain": [
       "35"
      ]
     },
     "execution_count": 15,
     "metadata": {},
     "output_type": "execute_result"
    }
   ],
   "source": [
    "# function is correct but no handling of null.\n",
    "def add_numbers(n1:int,n2:int) -> int:\n",
    "    return n1+n2\n",
    "add_numbers(23,12)\n",
    "\n",
    "# -> Extra_Material_for_learning\\Static_Typing.ipynb:107: error: Name \"null\" is not defined  [name-defined]\n",
    "# Found 1 error in 1 file (checked 1 source file)\n",
    "\n",
    "# function handling null.\n",
    "def add_numbers(n1:int | None,n2:int) -> int:\n",
    "    if not n1:\n",
    "        return 0\n",
    "    return n1+n2\n",
    "\n",
    "add_numbers(23,12)\n",
    "# -> PS C:\\Complete_Gen_AI_Udemy> mypy Extra_Material_for_learning\\Static_Typing.ipynb --strict\n",
    "# Success: no issues found in 1 source file\n"
   ]
  },
  {
   "cell_type": "markdown",
   "metadata": {},
   "source": [
    "**Typing** : It is a technique in python that provides runtime support for type hints. The typing module defines a standard set of names to be used to describe types in python.\n",
    "- helps in better documentation of code.\n",
    "- Used Mypy for validation\n"
   ]
  },
  {
   "cell_type": "code",
   "execution_count": 17,
   "metadata": {},
   "outputs": [],
   "source": [
    "# x : list[list[int]] == []\n",
    "# -> Extra_Material_for_learning\\Static_Typing.ipynb:126: error: Need type annotation for 'x'  [var-annotated]\n",
    "# Found 1 error in 1 file (checked 1 source file)\n",
    "\n",
    "from typing import List\n",
    "\n",
    "x : List[List[int]] = [[1,2],[3,4]]\n",
    "# PS C:\\Complete_Gen_AI_Udemy> mypy Extra_Material_for_learning\\Static_Typing.ipynb --strict\n",
    "# Success: no issues found in 1 source file\n",
    "\n",
    "\n",
    "# Similarly we can import Dict, Set from typing module to practice.\n"
   ]
  },
  {
   "cell_type": "code",
   "execution_count": 20,
   "metadata": {},
   "outputs": [],
   "source": [
    "from typing import Sequence\n",
    "\n",
    "def fun(seq : Sequence[str]):\n",
    "    pass\n",
    "\n",
    "fun(['1','2','3'])\n",
    "# PS C:\\Complete_Gen_AI_Udemy> mypy Extra_Material_for_learning\\Static_Typing.ipynb --strict\n",
    "# Success: no issues found in 1 source file\n",
    "\n",
    "fun(('1','2','3'))\n",
    "# PS C:\\Complete_Gen_AI_Udemy> mypy Extra_Material_for_learning\\Static_Typing.ipynb --strict\n",
    "# Success: no issues found in 1 source file\n",
    "\n",
    "fun(\"string\")\n",
    "# PS C:\\Complete_Gen_AI_Udemy> mypy Extra_Material_for_learning\\Static_Typing.ipynb --strict\n",
    "# Success: no issues found in 1 source file"
   ]
  },
  {
   "cell_type": "markdown",
   "metadata": {},
   "source": [
    "**Pydantic**\n",
    "- It is a data validation and settings management using python type annotations.\n",
    "- It is a data validation library that uses python type annotations.\n",
    "- Not much info on youtube and already has better alternatives mentioned in the file\n",
    "\n",
    "**Pyright**\n",
    "- Pyright is a fast type checker meant for large python codebases.\n",
    "- It is microsoft tool\n",
    "- It is a static type checker for python that is faster than mypy.\n",
    "- It is written in typescript and runs on node.js.\n",
    "- It used the Language Server Protocol to communicate with the Editor.\n",
    "\n",
    "____________________________________________________________________________________________________________________________\n",
    "\n",
    "**Pyre**\n",
    "- Pyre is a performant type checker for python.\n",
    "- It is developed by facebook.\n",
    "- It is fast, scalable, an easy to use.\n",
    "\n",
    "> Syntax : pyre --sourcedirectory-filepath client check\n",
    "\n"
   ]
  }
 ],
 "metadata": {
  "kernelspec": {
   "display_name": "Python 3",
   "language": "python",
   "name": "python3"
  },
  "language_info": {
   "codemirror_mode": {
    "name": "ipython",
    "version": 3
   },
   "file_extension": ".py",
   "mimetype": "text/x-python",
   "name": "python",
   "nbconvert_exporter": "python",
   "pygments_lexer": "ipython3",
   "version": "3.12.0"
  }
 },
 "nbformat": 4,
 "nbformat_minor": 2
}
