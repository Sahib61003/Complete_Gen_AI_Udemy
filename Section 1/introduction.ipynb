{
 "cells": [
  {
   "cell_type": "markdown",
   "metadata": {},
   "source": [
    "## Generative AI Course with Langchain\n",
    "\n",
    "- Going to create RAGs\n",
    "- Going to create a chatbot\n",
    "- Going to create search Engine\n",
    "- Going to create a summarizer\n",
    "- Going to create 13+ End to End Projects\n",
    "\n",
    "#### **WORKFLOW of Course**\n",
    "\n",
    "- Python Programming (Basic to Advanced)\n",
    "- Pre-requisites for Gen AI: NLP in Deep Learning (RNN, LSTM, GRU, GRU RNN, Bidirectional RNN etc)\n",
    "- Encoder Decoder Mathematical Intuition\n",
    "- Transformer Architecture and Attention Mechanism (BERT)\n",
    "- Understanding of LLM Models\n",
    "- Langchain Ecosystem \n",
    "- Open Source LLM Models\n",
    "- Understanding of Vector DB, Retrievers, Text Summarization, Chat with SQL, Chats with message history\n",
    "- Understanding of RAGs\n",
    "- Deployment Techniques (mostly with free resources)\n",
    "- Fine Tuning Techniques\n",
    "- GenAI in AWS \n",
    "- Nvidia NIM\n",
    "- CrewAI Library\n",
    "- OpenAI, Gemma, Llama3, Anthropic, CodeLama, HuggingFace etc\n",
    "- GROQ Infrastructure\n",
    "\n"
   ]
  },
  {
   "cell_type": "markdown",
   "metadata": {},
   "source": [
    "### BASIC Python:"
   ]
  },
  {
   "cell_type": "code",
   "execution_count": 2,
   "metadata": {},
   "outputs": [
    {
     "name": "stdout",
     "output_type": "stream",
     "text": [
      "Sahib\n",
      "Krish\n",
      "Name is Sahib\n"
     ]
    }
   ],
   "source": [
    "# Syntax Rules\n",
    "''' \n",
    "1. Case Senstivity - Python follows\n",
    "2. Indentation - Python uses indentation to define the block of code\n",
    "'''\n",
    "\n",
    "# Example of Case Senstivity\n",
    "Name = \"Krish\"\n",
    "name = \"Sahib\"\n",
    "\n",
    "print(name)\n",
    "print(Name)\n",
    "\n",
    "# Example of Indentation\n",
    "if name == \"Sahib\":\n",
    "    print(\"Name is Sahib\")\n",
    "else:\n",
    "    print(\"Name is something else\")"
   ]
  },
  {
   "cell_type": "code",
   "execution_count": 1,
   "metadata": {},
   "outputs": [
    {
     "name": "stdout",
     "output_type": "stream",
     "text": [
      "55\n"
     ]
    }
   ],
   "source": [
    "# Line Continuation\n",
    "\n",
    "a = 1 + 2 + 3 + 4 + 5 + \\\n",
    "    6 + 7 + 8 + 9 + 10\n",
    "\n",
    "print(a)"
   ]
  },
  {
   "cell_type": "code",
   "execution_count": 2,
   "metadata": {},
   "outputs": [
    {
     "name": "stdout",
     "output_type": "stream",
     "text": [
      "10 20 30\n"
     ]
    }
   ],
   "source": [
    "# Multiple Statements on a single line\n",
    "a = 10; b = 20; c = 30\n",
    "print(a, b, c)  # Output: 10 20 30"
   ]
  },
  {
   "cell_type": "code",
   "execution_count": 4,
   "metadata": {},
   "outputs": [
    {
     "name": "stdout",
     "output_type": "stream",
     "text": [
      "<class 'int'>\n",
      "<class 'str'>\n"
     ]
    }
   ],
   "source": [
    "# Semantics Understanding\n",
    "\n",
    "age = 32 # kernal automatically understands it is integer value\n",
    "name = \"Krish\" # kernal automatically understands it is string value\n",
    "\n",
    "print(type(age))\n",
    "print(type(name))\n"
   ]
  },
  {
   "cell_type": "code",
   "execution_count": 5,
   "metadata": {},
   "outputs": [
    {
     "name": "stdout",
     "output_type": "stream",
     "text": [
      "5 is of type <class 'int'>\n",
      "2.0 is of type <class 'float'>\n",
      "(1+2j) is type of <class 'complex'>\n",
      "This is a string\n",
      "[1, 2, 3, 4, 5]\n",
      "1\n",
      "[5, 4, 3, 2, 1]\n"
     ]
    }
   ],
   "source": [
    "#Types of Variables\n",
    "\n",
    "# 1. Numbers\n",
    "# 2. String\n",
    "# 3. List\n",
    "\n",
    "# Numbers\n",
    "a = 5\n",
    "print(a, \"is of type\", type(a))\n",
    "\n",
    "a = 2.0\n",
    "print(a, \"is of type\", type(a))\n",
    "\n",
    "a = 1+2j\n",
    "print(a, \"is type of\", type(a))\n",
    "\n",
    "# String\n",
    "\n",
    "a = \"This is a string\"\n",
    "print(a)\n",
    "\n",
    "# List\n",
    "a = [1, 2, 3, 4, 5]\n",
    "print(a)\n",
    "print(a[0])\n",
    "print(a[::-1])\n",
    "\n"
   ]
  },
  {
   "cell_type": "code",
   "execution_count": 8,
   "metadata": {},
   "outputs": [
    {
     "name": "stdout",
     "output_type": "stream",
     "text": [
      "My name is Sahib Preet Singh\n"
     ]
    }
   ],
   "source": [
    "# Naming Conventions:\n",
    "'''\n",
    "1. Variable names can be of any length\n",
    "2. Variable names can contain alphabets and numbers\n",
    "3. Variable names can contain underscore\n",
    "4. Variable names cannot start with a number\n",
    "5. Variable names are case sensitive\n",
    "6. Variables names should be descriptive\n",
    "'''\n",
    "\n",
    "first_name = \"Sahib\"\n",
    "middle_name = \"Preet\"\n",
    "last_name = \"Singh\"\n",
    "\n",
    "print(\"My name is\", first_name, middle_name, last_name)"
   ]
  },
  {
   "cell_type": "code",
   "execution_count": 10,
   "metadata": {},
   "outputs": [
    {
     "name": "stdout",
     "output_type": "stream",
     "text": [
      "<class 'int'>\n",
      "<class 'str'>\n"
     ]
    }
   ],
   "source": [
    "num = 10\n",
    "print(type(num))\n",
    "num = str(num)\n",
    "print(type(num))"
   ]
  },
  {
   "cell_type": "code",
   "execution_count": 11,
   "metadata": {},
   "outputs": [
    {
     "name": "stdout",
     "output_type": "stream",
     "text": [
      "14\n"
     ]
    }
   ],
   "source": [
    "age =  int(input(\"Enter age: \"))\n",
    "print(age)"
   ]
  },
  {
   "cell_type": "code",
   "execution_count": 12,
   "metadata": {},
   "outputs": [
    {
     "name": "stdout",
     "output_type": "stream",
     "text": [
      "True\n",
      "<class 'bool'>\n"
     ]
    }
   ],
   "source": [
    "a = 10\n",
    "if a == 10:\n",
    "    x = True\n",
    "    print(x)\n",
    "    print(type(x))"
   ]
  },
  {
   "cell_type": "code",
   "execution_count": 14,
   "metadata": {},
   "outputs": [],
   "source": [
    "# Operators:\n",
    "\n",
    "# 1. Arithmetic Operators\n",
    "# 2. Comparison Operators\n",
    "# 3. Logical Operators\n",
    "# 4. Assignment Operators\n",
    "# 5. Bitwise Operators\n",
    "# 6. Membership Operators\n",
    "# 7. Identity\n"
   ]
  },
  {
   "cell_type": "code",
   "execution_count": 15,
   "metadata": {},
   "outputs": [
    {
     "name": "stdout",
     "output_type": "stream",
     "text": [
      "Addition:  30\n",
      "Subtraction:  -10\n",
      "Multiplication:  200\n",
      "Division:  0.5\n",
      "Modulus:  10\n",
      "Exponentiation:  100000000000000000000\n",
      "Floor Division:  0\n"
     ]
    }
   ],
   "source": [
    "\n",
    "# Arithmetic Operators\n",
    "a = 10\n",
    "b = 20\n",
    "print(\"Addition: \", a + b)\n",
    "print(\"Subtraction: \", a - b)\n",
    "print(\"Multiplication: \", a * b)\n",
    "print(\"Division: \", a / b)\n",
    "print(\"Modulus: \", a % b)\n",
    "print(\"Exponentiation: \", a ** b)\n",
    "print(\"Floor Division: \", a // b)\n"
   ]
  },
  {
   "cell_type": "code",
   "execution_count": 16,
   "metadata": {},
   "outputs": [
    {
     "name": "stdout",
     "output_type": "stream",
     "text": [
      "False\n",
      "True\n",
      "False\n",
      "True\n",
      "False\n",
      "True\n"
     ]
    }
   ],
   "source": [
    "# Comparison Operators\n",
    "print(a == b)\n",
    "print(a != b)\n",
    "print(a > b)\n",
    "print(a < b)\n",
    "print(a >= b)\n",
    "print(a <= b)"
   ]
  },
  {
   "cell_type": "code",
   "execution_count": 17,
   "metadata": {},
   "outputs": [
    {
     "name": "stdout",
     "output_type": "stream",
     "text": [
      "False\n",
      "True\n",
      "False\n"
     ]
    }
   ],
   "source": [
    "# Logical Operators\n",
    "a = True\n",
    "b = False\n",
    "print(a and b)\n",
    "print(a or b)\n",
    "print(not a)"
   ]
  },
  {
   "cell_type": "code",
   "execution_count": 18,
   "metadata": {},
   "outputs": [
    {
     "name": "stdout",
     "output_type": "stream",
     "text": [
      "10\n",
      "20\n",
      "10\n"
     ]
    }
   ],
   "source": [
    "# Assignment Operators\n",
    "a = 10\n",
    "print(a)\n",
    "\n",
    "a += 10\n",
    "print(a)\n",
    "\n",
    "a -= 10\n",
    "print(a)\n"
   ]
  },
  {
   "cell_type": "code",
   "execution_count": 21,
   "metadata": {},
   "outputs": [
    {
     "name": "stdout",
     "output_type": "stream",
     "text": [
      "0\n",
      "30\n",
      "30\n",
      "-11\n",
      "40\n",
      "2\n"
     ]
    }
   ],
   "source": [
    "\n",
    "#Bitwise Operators\n",
    "a = 10\n",
    "b = 20\n",
    "print(a & b)\n",
    "print(a | b)\n",
    "print(a ^ b)\n",
    "print(~a)\n",
    "print(a << 2)\n",
    "print(a >> 2)\n",
    "\n"
   ]
  },
  {
   "cell_type": "code",
   "execution_count": 20,
   "metadata": {},
   "outputs": [
    {
     "name": "stdout",
     "output_type": "stream",
     "text": [
      "True\n",
      "False\n",
      "True\n",
      "False\n"
     ]
    }
   ],
   "source": [
    "# Membership Operators\n",
    "a = [1, 2, 3, 4, 5]\n",
    "print(1 in a)\n",
    "print(10 in a)\n",
    "\n",
    "# Identity Operators\n",
    "a = 10\n",
    "b = 10\n",
    "print(a is b)\n",
    "print(a is not b)\n"
   ]
  }
 ],
 "metadata": {
  "kernelspec": {
   "display_name": "Python 3",
   "language": "python",
   "name": "python3"
  },
  "language_info": {
   "codemirror_mode": {
    "name": "ipython",
    "version": 3
   },
   "file_extension": ".py",
   "mimetype": "text/x-python",
   "name": "python",
   "nbconvert_exporter": "python",
   "pygments_lexer": "ipython3",
   "version": "3.12.0"
  }
 },
 "nbformat": 4,
 "nbformat_minor": 2
}
