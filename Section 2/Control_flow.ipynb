{
 "cells": [
  {
   "cell_type": "markdown",
   "metadata": {},
   "source": [
    "### Conditional Statements:\n",
    "- Conditional statements are used to perform different computations or actions depending on whether a condition evaluates to true or false.\n",
    "- The most common form of conditional statement is the if statement.\n",
    "- The if statement is used to perform a certain block of code if the condition is true.\n",
    "- The if statement is written by using the if keyword followed by the condition and a colon.\n",
    "- The block of code to be executed is written below the if statement and is indented.\n",
    "- The block of code is executed only if the condition is true.\n"
   ]
  },
  {
   "cell_type": "code",
   "execution_count": 2,
   "metadata": {},
   "outputs": [
    {
     "name": "stdout",
     "output_type": "stream",
     "text": [
      "You are a minor.\n"
     ]
    }
   ],
   "source": [
    "age = int(input(\"Enter your age: \"))\n",
    "if age < 18:\n",
    "    print(\"You are a minor.\")\n",
    "else:\n",
    "    print(\"You are an adult.\")"
   ]
  },
  {
   "cell_type": "code",
   "execution_count": 5,
   "metadata": {},
   "outputs": [
    {
     "name": "stdout",
     "output_type": "stream",
     "text": [
      "A\n"
     ]
    }
   ],
   "source": [
    "score = 90\n",
    "\n",
    "if score >= 90:\n",
    "    print(\"A\")\n",
    "elif score >= 80:\n",
    "    print(\"B\")\n",
    "else:\n",
    "    print(\"C\")"
   ]
  },
  {
   "cell_type": "code",
   "execution_count": 10,
   "metadata": {},
   "outputs": [
    {
     "name": "stdout",
     "output_type": "stream",
     "text": [
      "Negative Number\n"
     ]
    }
   ],
   "source": [
    "num = int(input(\"Enter the Number: \"))\n",
    "\n",
    "if num > 0:\n",
    "    print(\"Positive Number\")\n",
    "    if num % 2 == 0:\n",
    "        print(\"Even Number\")\n",
    "    else:\n",
    "        print(\"Odd Number\")\n",
    "elif num == 0:\n",
    "    print(\"Zero\")\n",
    "else:\n",
    "    print(\"Negative Number\")"
   ]
  },
  {
   "cell_type": "code",
   "execution_count": 12,
   "metadata": {},
   "outputs": [
    {
     "name": "stdout",
     "output_type": "stream",
     "text": [
      "Not Leap Year\n"
     ]
    }
   ],
   "source": [
    "year = int(input(\"Enter  year: \"))\n",
    "\n",
    "if year % 4 == 0:\n",
    "    if year % 100 == 0 & year % 400 == 0:\n",
    "        print(\"Leap Year\")\n",
    "    elif year % 100 == 0:\n",
    "        print(\"Not Leap Year\")\n",
    "    else:\n",
    "        print(\"Leap Year\")\n",
    "else:\n",
    "    print(\"Not Leap Year\")\n",
    "    \n"
   ]
  },
  {
   "cell_type": "markdown",
   "metadata": {},
   "source": [
    "### Loops"
   ]
  },
  {
   "cell_type": "markdown",
   "metadata": {},
   "source": [
    "**For Loop**\n",
    "- For loop is used to iterate over a sequence (list, tuple, string) or other iterable objects.\n",
    "- The for loop is written by using the for keyword followed by a variable name, the in keyword, and a sequence or other iterable object.\n",
    "- The block of code to be executed is written below the for loop and is indented.\n",
    "\n",
    "**While Loop**\n",
    "- While loop is used to execute a block of code repeatedly as long as the condition is true.\n",
    "- The while loop is written by using the while keyword followed by a condition and a colon.\n",
    "- The block of code to be executed is written below the while loop and is indented.\n"
   ]
  },
  {
   "cell_type": "code",
   "execution_count": 22,
   "metadata": {},
   "outputs": [
    {
     "name": "stdout",
     "output_type": "stream",
     "text": [
      "1 2 3 4 5 "
     ]
    }
   ],
   "source": [
    "for i in range(1,6):\n",
    "    print(i, end = \" \")\n",
    "    "
   ]
  },
  {
   "cell_type": "code",
   "execution_count": 20,
   "metadata": {},
   "outputs": [
    {
     "name": "stdout",
     "output_type": "stream",
     "text": [
      "1 is less than 10.\n",
      "2 is less than 10.\n",
      "3 is less than 10.\n",
      "4 is less than 10.\n",
      "5 is less than 10.\n",
      "6 is less than 10.\n",
      "7 is less than 10.\n",
      "8 is less than 10.\n",
      "9 is less than 10.\n",
      "11 is greater than 10 but less than 50.\n",
      "12 is greater than 10 but less than 50.\n",
      "13 is greater than 10 but less than 50.\n",
      "14 is greater than 10 but less than 50.\n",
      "15 is greater than 10 but less than 50.\n",
      "16 is greater than 10 but less than 50.\n",
      "17 is greater than 10 but less than 50.\n",
      "18 is greater than 10 but less than 50.\n",
      "19 is greater than 10 but less than 50.\n",
      "20 is greater than 10 but less than 50.\n",
      "21 is greater than 10 but less than 50.\n",
      "22 is greater than 10 but less than 50.\n",
      "23 is greater than 10 but less than 50.\n",
      "24 is greater than 10 but less than 50.\n",
      "25 is greater than 10 but less than 50.\n",
      "26 is greater than 10 but less than 50.\n",
      "27 is greater than 10 but less than 50.\n",
      "28 is greater than 10 but less than 50.\n",
      "29 is greater than 10 but less than 50.\n",
      "30 is greater than 10 but less than 50.\n",
      "31 is greater than 10 but less than 50.\n",
      "32 is greater than 10 but less than 50.\n",
      "33 is greater than 10 but less than 50.\n",
      "34 is greater than 10 but less than 50.\n",
      "35 is greater than 10 but less than 50.\n",
      "36 is greater than 10 but less than 50.\n",
      "37 is greater than 10 but less than 50.\n",
      "38 is greater than 10 but less than 50.\n",
      "39 is greater than 10 but less than 50.\n",
      "40 is greater than 10 but less than 50.\n",
      "41 is greater than 10 but less than 50.\n",
      "42 is greater than 10 but less than 50.\n",
      "43 is greater than 10 but less than 50.\n",
      "44 is greater than 10 but less than 50.\n",
      "45 is greater than 10 but less than 50.\n",
      "46 is greater than 10 but less than 50.\n",
      "47 is greater than 10 but less than 50.\n",
      "48 is greater than 10 but less than 50.\n",
      "49 is greater than 10 but less than 50.\n",
      "50 is greater than 10 but less than 50.\n",
      "51 is greater than 50.\n",
      "52 is greater than 50.\n",
      "53 is greater than 50.\n",
      "54 is greater than 50.\n",
      "55 is greater than 50.\n",
      "56 is greater than 50.\n",
      "57 is greater than 50.\n",
      "58 is greater than 50.\n",
      "59 is greater than 50.\n",
      "60 is greater than 50.\n",
      "61 is greater than 50.\n",
      "62 is greater than 50.\n",
      "63 is greater than 50.\n",
      "64 is greater than 50.\n",
      "65 is greater than 50.\n",
      "66 is greater than 50.\n",
      "67 is greater than 50.\n",
      "68 is greater than 50.\n",
      "69 is greater than 50.\n",
      "70 is greater than 50.\n",
      "71 is greater than 50.\n",
      "72 is greater than 50.\n",
      "73 is greater than 50.\n",
      "74 is greater than 50.\n",
      "75 is greater than 50.\n",
      "76 is greater than 50.\n",
      "77 is greater than 50.\n",
      "78 is greater than 50.\n",
      "79 is greater than 50.\n",
      "80 is greater than 50.\n",
      "81 is greater than 50.\n",
      "82 is greater than 50.\n",
      "83 is greater than 50.\n",
      "84 is greater than 50.\n",
      "85 is greater than 50.\n",
      "86 is greater than 50.\n",
      "87 is greater than 50.\n",
      "88 is greater than 50.\n",
      "89 is greater than 50.\n",
      "90 is greater than 50.\n",
      "91 is greater than 50.\n",
      "92 is greater than 50.\n",
      "93 is greater than 50.\n",
      "94 is greater than 50.\n",
      "95 is greater than 50.\n",
      "96 is greater than 50.\n",
      "97 is greater than 50.\n",
      "98 is greater than 50.\n",
      "99 is greater than 50.\n"
     ]
    }
   ],
   "source": [
    "for i in range(1,100):\n",
    "    if i<10:\n",
    "        print(i, \"is less than 10.\")\n",
    "    elif i>10 and i<=50:\n",
    "        print(i, \"is greater than 10 but less than 50.\")\n",
    "    elif i>50 and i<100:\n",
    "        print(i, \"is greater than 50.\")\n",
    "    "
   ]
  },
  {
   "cell_type": "code",
   "execution_count": 26,
   "metadata": {},
   "outputs": [
    {
     "name": "stdout",
     "output_type": "stream",
     "text": [
      "[2, 4, 6, 8, 10, 12, 14, 16, 18, 20, 22, 24, 26, 28, 30, 32, 34, 36, 38, 40, 42, 44, 46, 48, 50, 52, 54, 56, 58, 60, 62, 64, 66, 68, 70, 72, 74, 76, 78, 80, 82, 84, 86, 88, 90, 92, 94, 96, 98, 100]\n"
     ]
    }
   ],
   "source": [
    "l = []\n",
    "for i in range(2, 101, 2):\n",
    "    l.append(i)\n",
    "print(l)"
   ]
  },
  {
   "cell_type": "code",
   "execution_count": 34,
   "metadata": {},
   "outputs": [
    {
     "name": "stdout",
     "output_type": "stream",
     "text": [
      "S\ta\th\ti\tb\t"
     ]
    }
   ],
   "source": [
    "str1 = \"Sahib\"\n",
    "for i in str1:\n",
    "    print(i, end=\"\\t\")"
   ]
  },
  {
   "cell_type": "code",
   "execution_count": 35,
   "metadata": {},
   "outputs": [
    {
     "name": "stdout",
     "output_type": "stream",
     "text": [
      "0\n",
      "1\n",
      "2\n",
      "3\n",
      "4\n",
      "5\n"
     ]
    }
   ],
   "source": [
    "count = 0\n",
    "while count < 6:\n",
    "    print(count)\n",
    "    count += 1"
   ]
  },
  {
   "cell_type": "code",
   "execution_count": 48,
   "metadata": {},
   "outputs": [
    {
     "name": "stdout",
     "output_type": "stream",
     "text": [
      "0\n",
      "1\n",
      "2\n",
      "using for loop\n",
      "0\n",
      "1\n",
      "2\n"
     ]
    }
   ],
   "source": [
    "#break: exits the loop prematurely\n",
    "count = 0\n",
    "while count < 6:\n",
    "    if count == 3:\n",
    "        break\n",
    "    print(count)\n",
    "    count += 1\n",
    "\n",
    "print(\"using for loop\") \n",
    "\n",
    "for i in range(10):\n",
    "    if i == 3:\n",
    "        break\n",
    "    print(i)\n",
    "   \n",
    "\n"
   ]
  },
  {
   "cell_type": "code",
   "execution_count": 53,
   "metadata": {},
   "outputs": [
    {
     "name": "stdout",
     "output_type": "stream",
     "text": [
      "1\n",
      "2\n",
      "4\n",
      "5\n",
      "6\n",
      "7\n",
      "8\n",
      "9\n",
      "10\n"
     ]
    }
   ],
   "source": [
    "# Continue:\n",
    "\n",
    "for i in range(1,11):\n",
    "    if i == 3:\n",
    "        continue\n",
    "    print(i)"
   ]
  },
  {
   "cell_type": "code",
   "execution_count": 54,
   "metadata": {},
   "outputs": [
    {
     "name": "stdout",
     "output_type": "stream",
     "text": [
      "1\n",
      "2\n",
      "3\n",
      "4\n",
      "5\n",
      "6\n",
      "7\n",
      "8\n",
      "9\n",
      "10\n"
     ]
    }
   ],
   "source": [
    "# pass\n",
    "\n",
    "for i in range(1,11):\n",
    "    if i == 3:\n",
    "        pass\n",
    "    print(i)"
   ]
  },
  {
   "cell_type": "code",
   "execution_count": 56,
   "metadata": {},
   "outputs": [
    {
     "name": "stdout",
     "output_type": "stream",
     "text": [
      "i:0 and j:0\n",
      "i:0 and j:1\n",
      "i:1 and j:0\n",
      "i:1 and j:1\n",
      "i:2 and j:0\n",
      "i:2 and j:1\n",
      "i:3 and j:0\n",
      "i:3 and j:1\n",
      "i:4 and j:0\n",
      "i:4 and j:1\n"
     ]
    }
   ],
   "source": [
    "for i in range(5):\n",
    "    for j in range(2):\n",
    "        print(f\"i:{i} and j:{j}\")\n"
   ]
  },
  {
   "cell_type": "code",
   "execution_count": 60,
   "metadata": {},
   "outputs": [
    {
     "name": "stdout",
     "output_type": "stream",
     "text": [
      "55\n"
     ]
    }
   ],
   "source": [
    "# Calculate sum of first n natural numbers using while and for\n",
    "\n",
    "n = int(input(\"Enter the number: \"))\n",
    "\n",
    "sum1 = 0\n",
    "count = 1\n",
    "\n",
    "while count <= n:\n",
    "    sum1 += count\n",
    "    count += 1\n",
    "print(sum1)\n",
    "\n"
   ]
  },
  {
   "cell_type": "code",
   "execution_count": 63,
   "metadata": {},
   "outputs": [
    {
     "name": "stdout",
     "output_type": "stream",
     "text": [
      "55\n"
     ]
    }
   ],
   "source": [
    "n = int(input(\"Enter the number: \"))\n",
    "\n",
    "sum1 = 0\n",
    "for i in range(n+1):\n",
    "    sum1 += i\n",
    "print(sum1)"
   ]
  },
  {
   "cell_type": "code",
   "execution_count": 67,
   "metadata": {},
   "outputs": [
    {
     "name": "stdout",
     "output_type": "stream",
     "text": [
      "2\n",
      "3\n",
      "5\n",
      "7\n",
      "11\n",
      "13\n",
      "17\n",
      "19\n",
      "23\n",
      "29\n",
      "31\n",
      "37\n",
      "41\n",
      "43\n",
      "47\n",
      "53\n",
      "59\n",
      "61\n",
      "67\n",
      "71\n",
      "73\n",
      "79\n",
      "83\n",
      "89\n",
      "97\n"
     ]
    }
   ],
   "source": [
    "# Prime number between 1 and 100\n",
    "\n",
    "for i in range(2, 101):\n",
    "    for j in range(2, i):\n",
    "        if i % j == 0:\n",
    "            break\n",
    "    else:\n",
    "        print(i)"
   ]
  }
 ],
 "metadata": {
  "kernelspec": {
   "display_name": "Python 3",
   "language": "python",
   "name": "python3"
  },
  "language_info": {
   "codemirror_mode": {
    "name": "ipython",
    "version": 3
   },
   "file_extension": ".py",
   "mimetype": "text/x-python",
   "name": "python",
   "nbconvert_exporter": "python",
   "pygments_lexer": "ipython3",
   "version": "3.12.0"
  }
 },
 "nbformat": 4,
 "nbformat_minor": 2
}
