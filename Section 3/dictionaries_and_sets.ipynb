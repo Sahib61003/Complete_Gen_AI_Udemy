{
 "cells": [
  {
   "cell_type": "markdown",
   "metadata": {},
   "source": [
    "### Difference between sets and dictionary:\n",
    "\n",
    "- Sets are unordered collections of unique elements.\n",
    "- Sets are used to store multiple items in a single variable.\n",
    "- Sets are written with curly brackets.\n",
    "\n",
    "* Dictionaries are used to store data values in key:value pairs.\n",
    "* A dictionary is a collection which is unordered, changeable and does not allow duplicates.\n",
    "* Dictionaries are written with curly brackets, and have keys and values.\n",
    "\n"
   ]
  },
  {
   "cell_type": "code",
   "execution_count": 2,
   "metadata": {},
   "outputs": [
    {
     "name": "stdout",
     "output_type": "stream",
     "text": [
      "<class 'dict'>\n",
      "<class 'set'>\n"
     ]
    }
   ],
   "source": [
    "empty_dict = {}\n",
    "empty_set = set()\n",
    "\n",
    "print(type(empty_dict))\n",
    "print(type(empty_set))"
   ]
  },
  {
   "cell_type": "code",
   "execution_count": 3,
   "metadata": {},
   "outputs": [
    {
     "name": "stdout",
     "output_type": "stream",
     "text": [
      "{'name': 'Sahib', 'Age': 20, 'CGPA': 9.36}\n"
     ]
    }
   ],
   "source": [
    "students = {\"name\":\"Sahib\", \"Age\":20, \"CGPA\":9.36}\n",
    "print(students)"
   ]
  },
  {
   "cell_type": "code",
   "execution_count": 5,
   "metadata": {},
   "outputs": [
    {
     "data": {
      "text/plain": [
       "dict_keys(['name', 'Age', 'CGPA'])"
      ]
     },
     "execution_count": 5,
     "metadata": {},
     "output_type": "execute_result"
    }
   ],
   "source": [
    "students.keys()"
   ]
  },
  {
   "cell_type": "code",
   "execution_count": 7,
   "metadata": {},
   "outputs": [
    {
     "data": {
      "text/plain": [
       "dict_values(['Sahib', 20, 9.36])"
      ]
     },
     "execution_count": 7,
     "metadata": {},
     "output_type": "execute_result"
    }
   ],
   "source": [
    "students.values()"
   ]
  },
  {
   "cell_type": "code",
   "execution_count": 8,
   "metadata": {},
   "outputs": [
    {
     "name": "stdout",
     "output_type": "stream",
     "text": [
      "20\n"
     ]
    }
   ],
   "source": [
    "print(students['Age'])"
   ]
  },
  {
   "cell_type": "code",
   "execution_count": 9,
   "metadata": {},
   "outputs": [
    {
     "name": "stdout",
     "output_type": "stream",
     "text": [
      "9.36\n"
     ]
    }
   ],
   "source": [
    "print(students['CGPA'])"
   ]
  },
  {
   "cell_type": "code",
   "execution_count": 10,
   "metadata": {},
   "outputs": [
    {
     "name": "stdout",
     "output_type": "stream",
     "text": [
      "9.36\n"
     ]
    }
   ],
   "source": [
    "print(students.get(\"CGPA\"))"
   ]
  },
  {
   "cell_type": "code",
   "execution_count": 11,
   "metadata": {},
   "outputs": [
    {
     "name": "stdout",
     "output_type": "stream",
     "text": [
      "None\n"
     ]
    }
   ],
   "source": [
    "print(students.get(\"Salary\"))"
   ]
  },
  {
   "cell_type": "code",
   "execution_count": 12,
   "metadata": {},
   "outputs": [
    {
     "name": "stdout",
     "output_type": "stream",
     "text": [
      "N/A\n"
     ]
    }
   ],
   "source": [
    "print(students.get(\"Salary\", \"N/A\"))"
   ]
  },
  {
   "cell_type": "code",
   "execution_count": 13,
   "metadata": {},
   "outputs": [
    {
     "name": "stdout",
     "output_type": "stream",
     "text": [
      "{'name': 'Sahib', 'Age': 21, 'CGPA': 9.36}\n"
     ]
    }
   ],
   "source": [
    "# Modifying: (Dictionaries are mutable i.e changeable)\n",
    "\n",
    "students[\"Age\"] = 21\n",
    "print(students)"
   ]
  },
  {
   "cell_type": "code",
   "execution_count": 14,
   "metadata": {},
   "outputs": [
    {
     "name": "stdout",
     "output_type": "stream",
     "text": [
      "{'name': 'Sahib', 'Age': 21, 'CGPA': 9.36, 'Address': 'India'}\n"
     ]
    }
   ],
   "source": [
    "students[\"Address\"] = \"India\"\n",
    "print(students)"
   ]
  },
  {
   "cell_type": "code",
   "execution_count": 15,
   "metadata": {},
   "outputs": [],
   "source": [
    "del students[\"CGPA\"]"
   ]
  },
  {
   "cell_type": "code",
   "execution_count": 16,
   "metadata": {},
   "outputs": [
    {
     "data": {
      "text/plain": [
       "{'name': 'Sahib', 'Age': 21, 'Address': 'India'}"
      ]
     },
     "execution_count": 16,
     "metadata": {},
     "output_type": "execute_result"
    }
   ],
   "source": [
    "students"
   ]
  },
  {
   "cell_type": "code",
   "execution_count": 19,
   "metadata": {},
   "outputs": [
    {
     "name": "stdout",
     "output_type": "stream",
     "text": [
      "dict_keys(['name', 'Age', 'Address'])\n",
      "dict_values(['Sahib', 21, 'India'])\n",
      "dict_items([('name', 'Sahib'), ('Age', 21), ('Address', 'India')])\n"
     ]
    }
   ],
   "source": [
    "# Dictionary Methods\n",
    "\n",
    "keys = students.keys()\n",
    "print(keys)  \n",
    "values = students.values()\n",
    "print(values)\n",
    "items = students.items()\n",
    "print(items)\n"
   ]
  },
  {
   "cell_type": "code",
   "execution_count": 20,
   "metadata": {},
   "outputs": [
    {
     "name": "stdout",
     "output_type": "stream",
     "text": [
      "{'name': 'Sahib', 'Age': 21, 'Address': 'India'}\n"
     ]
    }
   ],
   "source": [
    "# Shallow Copying:\n",
    "\n",
    "students_copy = students.copy()\n",
    "print(students_copy)"
   ]
  },
  {
   "cell_type": "code",
   "execution_count": 21,
   "metadata": {},
   "outputs": [
    {
     "name": "stdout",
     "output_type": "stream",
     "text": [
      "{'name': 'Preet', 'Age': 21, 'Address': 'India'}\n",
      "{'name': 'Sahib', 'Age': 21, 'Address': 'India'}\n"
     ]
    }
   ],
   "source": [
    "students[\"name\"] = \"Preet\"\n",
    "\n",
    "print(students)\n",
    "print(students_copy)"
   ]
  },
  {
   "cell_type": "code",
   "execution_count": 24,
   "metadata": {},
   "outputs": [
    {
     "name": "stdout",
     "output_type": "stream",
     "text": [
      "name : Preet\n",
      "Age : 21\n",
      "Address : India\n"
     ]
    }
   ],
   "source": [
    "#Iterate over pairs:\n",
    "\n",
    "for key, value in students.items():\n",
    "    print(f\"{key} : {value}\")"
   ]
  },
  {
   "cell_type": "code",
   "execution_count": 25,
   "metadata": {},
   "outputs": [
    {
     "name": "stdout",
     "output_type": "stream",
     "text": [
      "{'Sahib': {'Age': 20, 'CGPA': 9.36}, 'Preet': {'Age': 21, 'CGPA': 9.5}}\n"
     ]
    }
   ],
   "source": [
    "## Nested Dictionaries\n",
    "\n",
    "students_nested = {\n",
    "    \"Sahib\": {\n",
    "        \"Age\": 20,\n",
    "        \"CGPA\": 9.36\n",
    "    },\n",
    "    \"Preet\": {\n",
    "        \"Age\": 21,\n",
    "        \"CGPA\": 9.5\n",
    "    }\n",
    "}\n",
    "\n",
    "print(students_nested)"
   ]
  },
  {
   "cell_type": "code",
   "execution_count": 27,
   "metadata": {},
   "outputs": [
    {
     "name": "stdout",
     "output_type": "stream",
     "text": [
      "9.36\n"
     ]
    }
   ],
   "source": [
    "print(students_nested[\"Sahib\"][\"CGPA\"])"
   ]
  },
  {
   "cell_type": "code",
   "execution_count": 28,
   "metadata": {},
   "outputs": [
    {
     "name": "stdout",
     "output_type": "stream",
     "text": [
      "Name: Sahib\n",
      "Age : 20\n",
      "CGPA : 9.36\n",
      "\n",
      "Name: Preet\n",
      "Age : 21\n",
      "CGPA : 9.5\n",
      "\n"
     ]
    }
   ],
   "source": [
    "#Iterating over nested dict\n",
    "\n",
    "for name, details in students_nested.items():\n",
    "    print(f\"Name: {name}\")\n",
    "    for key, value in details.items():\n",
    "        print(f\"{key} : {value}\")\n",
    "    print()"
   ]
  },
  {
   "cell_type": "code",
   "execution_count": 36,
   "metadata": {},
   "outputs": [
    {
     "name": "stdout",
     "output_type": "stream",
     "text": [
      "1 : 1\n",
      "2 : 4\n",
      "3 : 9\n",
      "4 : 16\n",
      "5 : 25\n",
      "6 : 36\n",
      "7 : 49\n",
      "8 : 64\n",
      "9 : 81\n",
      "10 : 100\n"
     ]
    }
   ],
   "source": [
    "#Dictionary Comprehension\n",
    "\n",
    "squares = {x:x**2 for x in range(1,11)}\n",
    "for i,j in squares.items():\n",
    "    print(i, \":\", j, end=\"\\n\")"
   ]
  },
  {
   "cell_type": "code",
   "execution_count": 38,
   "metadata": {},
   "outputs": [
    {
     "name": "stdout",
     "output_type": "stream",
     "text": [
      "{2: 4, 4: 16, 6: 36, 8: 64, 10: 100}\n"
     ]
    }
   ],
   "source": [
    "evens = {x:x**2 for x in range(1,11) if x%2 == 0}\n",
    "\n",
    "print(evens)"
   ]
  },
  {
   "cell_type": "code",
   "execution_count": 39,
   "metadata": {},
   "outputs": [
    {
     "name": "stdout",
     "output_type": "stream",
     "text": [
      "{1: 4, 2: 4, 3: 3, 4: 4, 5: 1, 6: 1, 7: 1}\n"
     ]
    }
   ],
   "source": [
    "numbers = [1,2,3,2,1,2,3,1,4,4,4,4,2,3,1,5,6,7]\n",
    "\n",
    "count = {x:numbers.count(x) for x in numbers}\n",
    "print(count)"
   ]
  },
  {
   "cell_type": "code",
   "execution_count": 41,
   "metadata": {},
   "outputs": [
    {
     "name": "stdout",
     "output_type": "stream",
     "text": [
      "{1: 4, 2: 4, 3: 3, 4: 4, 5: 1, 6: 1, 7: 1}\n"
     ]
    }
   ],
   "source": [
    "freq = {}\n",
    "for num in numbers:\n",
    "    if num in freq:\n",
    "        freq[num] +=1\n",
    "    else:\n",
    "        freq[num] = 1\n",
    "\n",
    "print(freq)"
   ]
  },
  {
   "cell_type": "code",
   "execution_count": 42,
   "metadata": {},
   "outputs": [
    {
     "name": "stdout",
     "output_type": "stream",
     "text": [
      "{'a': 1, 'b': 3, 'c': 4}\n"
     ]
    }
   ],
   "source": [
    "dict1 = {\"a\":1, \"b\":2}\n",
    "dict2 = {\"b\":3, \"c\":4}\n",
    "\n",
    "merge_dict = {**dict1, **dict2}\n",
    "print(merge_dict)"
   ]
  },
  {
   "cell_type": "markdown",
   "metadata": {},
   "source": [
    "SETS\n"
   ]
  },
  {
   "cell_type": "code",
   "execution_count": 43,
   "metadata": {},
   "outputs": [
    {
     "name": "stdout",
     "output_type": "stream",
     "text": [
      "{'AI-ML', 'Boy', 20, 'Sahib'}\n"
     ]
    }
   ],
   "source": [
    "info = {\"Sahib\", \"Boy\", 20, \"AI-ML\"}\n",
    "print(info)"
   ]
  },
  {
   "cell_type": "code",
   "execution_count": 44,
   "metadata": {},
   "outputs": [
    {
     "name": "stdout",
     "output_type": "stream",
     "text": [
      "<class 'set'>\n"
     ]
    }
   ],
   "source": [
    "print(type(info))"
   ]
  },
  {
   "cell_type": "code",
   "execution_count": 46,
   "metadata": {},
   "outputs": [
    {
     "name": "stdout",
     "output_type": "stream",
     "text": [
      "{1, 2, 3, 4, 5}\n"
     ]
    }
   ],
   "source": [
    "lists = [1,2,2,4,5,4,4,5,2,3]\n",
    "unique = set(lists)\n",
    "print(unique)"
   ]
  },
  {
   "cell_type": "code",
   "execution_count": 48,
   "metadata": {},
   "outputs": [
    {
     "name": "stdout",
     "output_type": "stream",
     "text": [
      "{1, 2, 3, 4, 5, 6}\n"
     ]
    }
   ],
   "source": [
    "unique.add(6)\n",
    "print(unique)"
   ]
  },
  {
   "cell_type": "code",
   "execution_count": 49,
   "metadata": {},
   "outputs": [
    {
     "name": "stdout",
     "output_type": "stream",
     "text": [
      "{'Noida', 'Los Angeles', 'California', 'Hesperia', 'Greater Noida', 'Delhi', 'Ghaziabad'}\n"
     ]
    }
   ],
   "source": [
    "cities = {\"Delhi\", \"Noida\", \"Greater Noida\", \"Ghaziabad\"}\n",
    "cities2 = {\"California\", \"Los Angeles\", \"Hesperia\"}\n",
    "cities.update(cities2)\n",
    "print(cities)"
   ]
  },
  {
   "cell_type": "code",
   "execution_count": 50,
   "metadata": {},
   "outputs": [
    {
     "name": "stdout",
     "output_type": "stream",
     "text": [
      "{'Noida', 'Los Angeles', 'California', 'Greater Noida', 'Delhi', 'Ghaziabad'}\n"
     ]
    }
   ],
   "source": [
    "cities.remove(\"Hesperia\")\n",
    "print(cities)"
   ]
  },
  {
   "cell_type": "code",
   "execution_count": 51,
   "metadata": {},
   "outputs": [
    {
     "name": "stdout",
     "output_type": "stream",
     "text": [
      "{'Noida', 'Los Angeles', 'California', 'Greater Noida', 'Ghaziabad'}\n"
     ]
    }
   ],
   "source": [
    "cities.discard(\"Delhi\")\n",
    "print(cities)"
   ]
  },
  {
   "cell_type": "code",
   "execution_count": 52,
   "metadata": {},
   "outputs": [
    {
     "name": "stdout",
     "output_type": "stream",
     "text": [
      "{'Berlin', 'Madrid', 'Bangalore', 'Kolkata', 'Delhi', 'Mumbai'}\n"
     ]
    }
   ],
   "source": [
    "#Join:\n",
    "cities = {\"Delhi\", \"Mumbai\", \"Berlin\", \"Kolkata\"}\n",
    "cities2 = {\"Delhi\", \"Bangalore\", \"Mumbai\", \"Madrid\"}\n",
    "cities3 = cities.union(cities2)\n",
    "print(cities3)\n"
   ]
  },
  {
   "cell_type": "code",
   "execution_count": 53,
   "metadata": {},
   "outputs": [
    {
     "name": "stdout",
     "output_type": "stream",
     "text": [
      "{'Delhi', 'Mumbai'}\n"
     ]
    }
   ],
   "source": [
    "cities4 = cities.intersection(cities2)\n",
    "print(cities4)"
   ]
  },
  {
   "cell_type": "code",
   "execution_count": 57,
   "metadata": {},
   "outputs": [
    {
     "name": "stdout",
     "output_type": "stream",
     "text": [
      "True\n"
     ]
    }
   ],
   "source": [
    "city = {\"Hyderabad\"}\n",
    "print(cities.isdisjoint(city))"
   ]
  }
 ],
 "metadata": {
  "kernelspec": {
   "display_name": "Python 3",
   "language": "python",
   "name": "python3"
  },
  "language_info": {
   "codemirror_mode": {
    "name": "ipython",
    "version": 3
   },
   "file_extension": ".py",
   "mimetype": "text/x-python",
   "name": "python",
   "nbconvert_exporter": "python",
   "pygments_lexer": "ipython3",
   "version": "3.12.0"
  }
 },
 "nbformat": 4,
 "nbformat_minor": 2
}
