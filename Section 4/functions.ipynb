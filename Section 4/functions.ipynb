{
 "cells": [
  {
   "cell_type": "code",
   "execution_count": 1,
   "metadata": {},
   "outputs": [],
   "source": [
    "# Intro of Functions\n",
    "# A function is a block of code that can be called multiple times from different parts of your program\n",
    "# Functions are used to perform a specific task\n",
    "\n",
    "# {Define a function, Calling function, default parameters, variable-length arguments and return statement } topics to be covered\n",
    "\n",
    "\n",
    "def function_name(parameters):\n",
    "    \"\"\" Docstring \"\"\"\n",
    "    # Block of Code\n",
    "    return \n"
   ]
  },
  {
   "cell_type": "markdown",
   "metadata": {},
   "source": [
    "**Why function?**\n",
    "- > To repeat rewriting of code\n",
    "- > reusing entire code \n",
    "- > To make code more readable\n",
    "- > To make code more organizable\n"
   ]
  },
  {
   "cell_type": "code",
   "execution_count": 3,
   "metadata": {},
   "outputs": [
    {
     "data": {
      "text/plain": [
       "'Even'"
      ]
     },
     "execution_count": 3,
     "metadata": {},
     "output_type": "execute_result"
    }
   ],
   "source": [
    "#Example:\n",
    "\n",
    "def even_odd(num):\n",
    "    \"\"\" This function checks if a number is even or odd \"\"\"\n",
    "    if num % 2 == 0:\n",
    "        return \"Even\"\n",
    "    else:\n",
    "        return \"Odd\"\n",
    "    \n",
    "even_odd(10)"
   ]
  },
  {
   "cell_type": "code",
   "execution_count": 5,
   "metadata": {},
   "outputs": [
    {
     "data": {
      "text/plain": [
       "30"
      ]
     },
     "execution_count": 5,
     "metadata": {},
     "output_type": "execute_result"
    }
   ],
   "source": [
    "# Function with multiple parameter\n",
    "\n",
    "def add(a,b):\n",
    "    c = a + b\n",
    "    return c\n",
    "\n",
    "add(10,20)"
   ]
  },
  {
   "cell_type": "code",
   "execution_count": 13,
   "metadata": {},
   "outputs": [
    {
     "name": "stdout",
     "output_type": "stream",
     "text": [
      "Hello, John\n",
      "Hello, User\n",
      "Hello, Sahib\n"
     ]
    }
   ],
   "source": [
    "# Function with default parameter\n",
    "def greet(name):\n",
    "    print(f\"Hello, {name}\")\n",
    "\n",
    "greet(\"John\")\n",
    "\n",
    "def greet_d(name=\"User\"):\n",
    "    print(f\"Hello, {name}\")\n",
    "\n",
    "greet_d()\n",
    "greet_d(\"Sahib\")"
   ]
  },
  {
   "cell_type": "code",
   "execution_count": 17,
   "metadata": {},
   "outputs": [
    {
     "name": "stdout",
     "output_type": "stream",
     "text": [
      "1\n",
      "2\n",
      "3\n",
      "4\n",
      "5\n",
      "name : Sahib\n",
      "age : 20\n",
      "city : New Delhi\n"
     ]
    }
   ],
   "source": [
    "# Variable length  arguments\n",
    "# positional and keyword args\n",
    "\n",
    "def print_numbers(*args):\n",
    "    for i in args:\n",
    "        print(i)\n",
    "\n",
    "print_numbers(1,2,3,4,5)\n",
    "\n",
    "\n",
    "def print_values(**kwargs):\n",
    "    for key, value in kwargs.items():\n",
    "        print(f\"{key} : {value}\")\n",
    "\n",
    "\n",
    "print_values(name=\"Sahib\", age=20, city=\"New Delhi\")"
   ]
  },
  {
   "cell_type": "code",
   "execution_count": 18,
   "metadata": {},
   "outputs": [],
   "source": [
    "def print_details(*args, **kwargs):\n",
    "    for value in args:\n",
    "        print(f\"Positional Arguments: {value}\")\n",
    "    for key, value in kwargs.items():\n",
    "        print(f\"Keyword Arguments: {key} : {value}\")"
   ]
  },
  {
   "cell_type": "code",
   "execution_count": 19,
   "metadata": {},
   "outputs": [
    {
     "name": "stdout",
     "output_type": "stream",
     "text": [
      "Positional Arguments: 1\n",
      "Positional Arguments: 2\n",
      "Positional Arguments: 3\n",
      "Positional Arguments: Krish\n",
      "Keyword Arguments: name : Sahib\n",
      "Keyword Arguments: age : 20\n",
      "Keyword Arguments: country : India\n"
     ]
    }
   ],
   "source": [
    "print_details(1,2,3,\"Krish\", name=\"Sahib\", age=\"20\", country = \"India\")\n"
   ]
  }
 ],
 "metadata": {
  "kernelspec": {
   "display_name": "Python 3",
   "language": "python",
   "name": "python3"
  },
  "language_info": {
   "codemirror_mode": {
    "name": "ipython",
    "version": 3
   },
   "file_extension": ".py",
   "mimetype": "text/x-python",
   "name": "python",
   "nbconvert_exporter": "python",
   "pygments_lexer": "ipython3",
   "version": "3.12.0"
  }
 },
 "nbformat": 4,
 "nbformat_minor": 2
}
