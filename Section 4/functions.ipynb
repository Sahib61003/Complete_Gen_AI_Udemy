{
 "cells": [
  {
   "cell_type": "code",
   "execution_count": 1,
   "metadata": {},
   "outputs": [],
   "source": [
    "# Intro of Functions\n",
    "# A function is a block of code that can be called multiple times from different parts of your program\n",
    "# Functions are used to perform a specific task\n",
    "\n",
    "# {Define a function, Calling function, default parameters, variable-length arguments and return statement } topics to be covered\n",
    "\n",
    "\n",
    "def function_name(parameters):\n",
    "    \"\"\" Docstring \"\"\"\n",
    "    # Block of Code\n",
    "    return \n"
   ]
  },
  {
   "cell_type": "markdown",
   "metadata": {},
   "source": [
    "**Why function?**\n",
    "- > To repeat rewriting of code\n",
    "- > reusing entire code \n",
    "- > To make code more readable\n",
    "- > To make code more organizable\n"
   ]
  },
  {
   "cell_type": "code",
   "execution_count": 3,
   "metadata": {},
   "outputs": [
    {
     "data": {
      "text/plain": [
       "'Even'"
      ]
     },
     "execution_count": 3,
     "metadata": {},
     "output_type": "execute_result"
    }
   ],
   "source": [
    "#Example:\n",
    "\n",
    "def even_odd(num):\n",
    "    \"\"\" This function checks if a number is even or odd \"\"\"\n",
    "    if num % 2 == 0:\n",
    "        return \"Even\"\n",
    "    else:\n",
    "        return \"Odd\"\n",
    "    \n",
    "even_odd(10)"
   ]
  },
  {
   "cell_type": "code",
   "execution_count": 5,
   "metadata": {},
   "outputs": [
    {
     "data": {
      "text/plain": [
       "30"
      ]
     },
     "execution_count": 5,
     "metadata": {},
     "output_type": "execute_result"
    }
   ],
   "source": [
    "# Function with multiple parameter\n",
    "\n",
    "def add(a,b):\n",
    "    c = a + b\n",
    "    return c\n",
    "\n",
    "add(10,20)"
   ]
  },
  {
   "cell_type": "code",
   "execution_count": 13,
   "metadata": {},
   "outputs": [
    {
     "name": "stdout",
     "output_type": "stream",
     "text": [
      "Hello, John\n",
      "Hello, User\n",
      "Hello, Sahib\n"
     ]
    }
   ],
   "source": [
    "# Function with default parameter\n",
    "def greet(name):\n",
    "    print(f\"Hello, {name}\")\n",
    "\n",
    "greet(\"John\")\n",
    "\n",
    "def greet_d(name=\"User\"):\n",
    "    print(f\"Hello, {name}\")\n",
    "\n",
    "greet_d()\n",
    "greet_d(\"Sahib\")"
   ]
  },
  {
   "cell_type": "code",
   "execution_count": 17,
   "metadata": {},
   "outputs": [
    {
     "name": "stdout",
     "output_type": "stream",
     "text": [
      "1\n",
      "2\n",
      "3\n",
      "4\n",
      "5\n",
      "name : Sahib\n",
      "age : 20\n",
      "city : New Delhi\n"
     ]
    }
   ],
   "source": [
    "# Variable length  arguments\n",
    "# positional and keyword args\n",
    "\n",
    "def print_numbers(*args):\n",
    "    for i in args:\n",
    "        print(i)\n",
    "\n",
    "print_numbers(1,2,3,4,5)\n",
    "\n",
    "\n",
    "def print_values(**kwargs):\n",
    "    for key, value in kwargs.items():\n",
    "        print(f\"{key} : {value}\")\n",
    "\n",
    "\n",
    "print_values(name=\"Sahib\", age=20, city=\"New Delhi\")"
   ]
  },
  {
   "cell_type": "code",
   "execution_count": 18,
   "metadata": {},
   "outputs": [],
   "source": [
    "def print_details(*args, **kwargs):\n",
    "    for value in args:\n",
    "        print(f\"Positional Arguments: {value}\")\n",
    "    for key, value in kwargs.items():\n",
    "        print(f\"Keyword Arguments: {key} : {value}\")"
   ]
  },
  {
   "cell_type": "code",
   "execution_count": 19,
   "metadata": {},
   "outputs": [
    {
     "name": "stdout",
     "output_type": "stream",
     "text": [
      "Positional Arguments: 1\n",
      "Positional Arguments: 2\n",
      "Positional Arguments: 3\n",
      "Positional Arguments: Krish\n",
      "Keyword Arguments: name : Sahib\n",
      "Keyword Arguments: age : 20\n",
      "Keyword Arguments: country : India\n"
     ]
    }
   ],
   "source": [
    "print_details(1,2,3,\"Krish\", name=\"Sahib\", age=\"20\", country = \"India\")\n"
   ]
  },
  {
   "cell_type": "code",
   "execution_count": 7,
   "metadata": {},
   "outputs": [
    {
     "data": {
      "text/plain": [
       "89.6"
      ]
     },
     "execution_count": 7,
     "metadata": {},
     "output_type": "execute_result"
    }
   ],
   "source": [
    "# Example 1: Temp Conversion\n",
    "\n",
    "def convert_temp(temp, unit):\n",
    "    \"\"\"This function converts temp between Celsius and Farhenheit\"\"\"\n",
    "\n",
    "    if unit == \"C\" or unit == \"c\":\n",
    "        return (temp * 9/5) + 32 # C to F\n",
    "    \n",
    "    elif unit == \"F\" or unit ==\"f\":\n",
    "        return (temp - 32) * 5/9\n",
    "    \n",
    "    else:\n",
    "        return \"Invalid Unit\"\n",
    "    \n",
    "convert_temp(32, \"C\")\n"
   ]
  },
  {
   "cell_type": "code",
   "execution_count": 16,
   "metadata": {},
   "outputs": [
    {
     "name": "stdout",
     "output_type": "stream",
     "text": [
      "True\n"
     ]
    },
    {
     "data": {
      "text/plain": [
       "'Strong'"
      ]
     },
     "execution_count": 16,
     "metadata": {},
     "output_type": "execute_result"
    }
   ],
   "source": [
    "# Example 2: Password Strength Checker\n",
    "\n",
    "def password_strength(password):\n",
    "    \"\"\"This function checks the strength of a password\"\"\"\n",
    "    if len(password) < 6: #on basis of length deciding weak or strong\n",
    "        return \"Weak\"\n",
    "    elif len(password) < 10:\n",
    "        return \"Medium\"\n",
    "    else:\n",
    "        return \"Strong\"\n",
    "    \n",
    "#using string functions to check \n",
    "def password_check(password):\n",
    "    \"\"\"This function checks the strength of a password\"\"\"\n",
    "    if len(password) < 6:\n",
    "        return False\n",
    "    if not any(char.isdigit() for char in password):\n",
    "        return False\n",
    "    if not any(char.isupper() for char in password):\n",
    "        return False\n",
    "    if not any(char.islower() for char in password):\n",
    "        return False\n",
    "    if not any(char in \"_!@#$%^&*()\" for char in password):\n",
    "        return False\n",
    "    return True\n",
    "\n",
    "print(password_check(\"Intern_Onelogica@06\")) # using print so that it returns output \n",
    "password_strength(\"Intern_Onelogica_06\")\n",
    "    "
   ]
  },
  {
   "cell_type": "code",
   "execution_count": 17,
   "metadata": {},
   "outputs": [
    {
     "data": {
      "text/plain": [
       "5000"
      ]
     },
     "execution_count": 17,
     "metadata": {},
     "output_type": "execute_result"
    }
   ],
   "source": [
    "# Example 3: Calculate total cost of items in a shopping cart\n",
    "\n",
    "cart = [\n",
    "    {\"item\": \"Shirt\", \"price\": 500, \"quantity\": 3},\n",
    "    {\"item\": \"Jeans\", \"price\": 1000, \"quantity\": 2},\n",
    "    {\"item\": \"Shoes\", \"price\": 1500, \"quantity\": 1}\n",
    "]\n",
    "\n",
    "def calculate_total_cost(cart):\n",
    "    total_cost = 0\n",
    "    for item in cart:\n",
    "        total_cost += item[\"price\"] * item[\"quantity\"]\n",
    "    \n",
    "    return total_cost\n",
    "\n",
    "calculate_total_cost(cart)"
   ]
  },
  {
   "cell_type": "code",
   "execution_count": 20,
   "metadata": {},
   "outputs": [
    {
     "data": {
      "text/plain": [
       "False"
      ]
     },
     "execution_count": 20,
     "metadata": {},
     "output_type": "execute_result"
    }
   ],
   "source": [
    "# Example 4: Check if a string is palindrome\n",
    "\n",
    "def is_palindrome(s):\n",
    "    s = s.lower()\n",
    "    return s == s[::-1]\n",
    "\n",
    "is_palindrome(\"aloo naan\")"
   ]
  },
  {
   "cell_type": "code",
   "execution_count": 21,
   "metadata": {},
   "outputs": [
    {
     "data": {
      "text/plain": [
       "120"
      ]
     },
     "execution_count": 21,
     "metadata": {},
     "output_type": "execute_result"
    }
   ],
   "source": [
    "# Example 5 : Factorial\n",
    "\n",
    "def factorial(n):\n",
    "    if n == 0:\n",
    "        return 1\n",
    "    else:\n",
    "        return n * factorial(n-1)\n",
    "    \n",
    "factorial(5)"
   ]
  },
  {
   "cell_type": "code",
   "execution_count": 26,
   "metadata": {},
   "outputs": [
    {
     "data": {
      "text/plain": [
       "{'Hi': 1,\n",
       " 'I': 4,\n",
       " 'am': 2,\n",
       " 'Sahib': 1,\n",
       " 'Preet': 1,\n",
       " 'Singh.': 1,\n",
       " 'AI-ML': 1,\n",
       " 'Intern': 1,\n",
       " 'at': 1,\n",
       " 'Onelogica': 1,\n",
       " 'and': 1,\n",
       " 'hope': 1,\n",
       " 'will': 1,\n",
       " 'get': 1,\n",
       " 'PPO.': 1}"
      ]
     },
     "execution_count": 26,
     "metadata": {},
     "output_type": "execute_result"
    }
   ],
   "source": [
    "# Example 6 : Count word in a file\n",
    "\n",
    "def count_words(file):\n",
    "    with open(file, \"r\") as f:\n",
    "        data = f.read()\n",
    "        words = data.split()\n",
    "        return len(words)\n",
    "    \n",
    "file = r\"sample.txt\"\n",
    "\n",
    "count_words(file)\n",
    "\n",
    "# also if we want to count word frequency\n",
    "\n",
    "def count_word_frequency(file):\n",
    "    with open(file, \"r\") as f:\n",
    "        data = f.read()\n",
    "        words = data.split()\n",
    "        word_freq = {}\n",
    "        for word in words:\n",
    "            if word in word_freq:\n",
    "                word_freq[word] += 1\n",
    "            else:\n",
    "                word_freq[word] = 1\n",
    "        return word_freq\n",
    "    \n",
    "count_word_frequency(file)"
   ]
  },
  {
   "cell_type": "code",
   "execution_count": null,
   "metadata": {},
   "outputs": [],
   "source": []
  }
 ],
 "metadata": {
  "kernelspec": {
   "display_name": "Python 3",
   "language": "python",
   "name": "python3"
  },
  "language_info": {
   "codemirror_mode": {
    "name": "ipython",
    "version": 3
   },
   "file_extension": ".py",
   "mimetype": "text/x-python",
   "name": "python",
   "nbconvert_exporter": "python",
   "pygments_lexer": "ipython3",
   "version": "3.12.0"
  }
 },
 "nbformat": 4,
 "nbformat_minor": 2
}
