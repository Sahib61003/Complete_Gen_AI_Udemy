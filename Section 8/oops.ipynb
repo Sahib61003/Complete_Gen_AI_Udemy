{
 "cells": [
  {
   "cell_type": "markdown",
   "metadata": {},
   "source": [
    "### Classes and Objects:\n",
    "\n",
    "**Classes and Objects** are the two main aspects of object-oriented programming. A class creates a new type where objects are instances of the class.\n",
    "**OOP** refers to Object Oriented Programming that uses *objects* to design applications and computer programs. OOP allows for modeling real world scenarios using classes and objects. "
   ]
  },
  {
   "cell_type": "code",
   "execution_count": 1,
   "metadata": {},
   "outputs": [
    {
     "name": "stdout",
     "output_type": "stream",
     "text": [
      "<class '__main__.Car'>\n"
     ]
    }
   ],
   "source": [
    "class Car:\n",
    "    pass\n",
    "\n",
    "audi = Car()\n",
    "print(type(audi))"
   ]
  },
  {
   "cell_type": "code",
   "execution_count": 2,
   "metadata": {},
   "outputs": [
    {
     "name": "stdout",
     "output_type": "stream",
     "text": [
      "4\n",
      "4\n"
     ]
    }
   ],
   "source": [
    "audi.windows = 4\n",
    "audi.doors = 4\n",
    "print(audi.windows)\n",
    "print(audi.doors)"
   ]
  },
  {
   "cell_type": "code",
   "execution_count": 7,
   "metadata": {},
   "outputs": [
    {
     "name": "stdout",
     "output_type": "stream",
     "text": [
      "Sherryy\n",
      "3\n",
      "Tom says Meowwww.\n"
     ]
    }
   ],
   "source": [
    "#Instance variable and methods\n",
    "\n",
    "class Dog:\n",
    "    ## Constructor\n",
    "    def __init__(self, name, age):\n",
    "        self.name = name\n",
    "        self.age = age\n",
    "    \n",
    "dog1 = Dog(\"Sherryy\", 3)\n",
    "print(dog1.name)\n",
    "print(dog1.age)\n",
    "\n",
    "\n",
    "#Instance method\n",
    "\n",
    "class Cat:\n",
    "    def __init__(self, name, age):\n",
    "        self.name = name\n",
    "        self.age = age\n",
    "\n",
    "    def meow(self):\n",
    "        print(f\"{self.name} says Meowwww.\")\n",
    "\n",
    "cat1 = Cat(\"Tom\", 4)\n",
    "cat1.meow()"
   ]
  },
  {
   "cell_type": "code",
   "execution_count": 9,
   "metadata": {},
   "outputs": [
    {
     "name": "stdout",
     "output_type": "stream",
     "text": [
      "Balance in your account is 10000\n",
      "1000 is deposited. New balance is 11000\n",
      "500 is withdrawn. New balance is 10500\n",
      "Balance in your account is 10500\n"
     ]
    }
   ],
   "source": [
    "# Modeling a Bank Account\n",
    "\n",
    "class BankAccount:\n",
    "    #Constructor\n",
    "    def __init__(self, owner, balance=0):\n",
    "        self.owner = owner\n",
    "        self.balance = balance\n",
    "\n",
    "    def deposit(self,amount):\n",
    "        self.balance += amount\n",
    "        print(f\"{amount} is deposited. New balance is {self.balance}\")\n",
    "    \n",
    "    def withdraw(self, amount):\n",
    "        if amount > self.balance:\n",
    "            return \"Insufficient funds\"\n",
    "        self.balance -= amount\n",
    "        print(f\"{amount} is withdrawn. New balance is {self.balance}\")\n",
    "\n",
    "    def get_balance(self):\n",
    "        print(f\"Balance in your account is {self.balance}\")\n",
    "\n",
    "\n",
    "account1 = BankAccount(\"Sahib\", 10000)\n",
    "\n",
    "account1.get_balance()\n",
    "\n",
    "account1.deposit(1000)\n",
    "account1.withdraw(500)\n",
    "\n",
    "account1.get_balance()\n",
    "    \n"
   ]
  },
  {
   "cell_type": "markdown",
   "metadata": {},
   "source": [
    "### Inheritance in Python\n",
    "\n",
    "**Inheritance** is a powerful feature in object oriented programming. It refers to inherit attributes and methods from another class."
   ]
  },
  {
   "cell_type": "code",
   "execution_count": 10,
   "metadata": {},
   "outputs": [],
   "source": [
    "class Car:\n",
    "    def __init__(self,windows, doors, enginetype):\n",
    "        self.windows = windows\n",
    "        self.doors = doors\n",
    "        self.enginetype = enginetype\n",
    "\n",
    "    def drive(self):\n",
    "        print(f\"The person drives the {self.enginetype} car\")\n",
    "\n",
    "car1 = Car(4, 4, \"Petrol\")"
   ]
  },
  {
   "cell_type": "code",
   "execution_count": 12,
   "metadata": {},
   "outputs": [
    {
     "name": "stdout",
     "output_type": "stream",
     "text": [
      "The person drives the Petrol car\n"
     ]
    }
   ],
   "source": [
    "car1.drive()"
   ]
  },
  {
   "cell_type": "code",
   "execution_count": 21,
   "metadata": {},
   "outputs": [],
   "source": [
    "# class childclassname(parentclassname): \n",
    "# Single Inheritance\n",
    "class Tesla(Car):\n",
    "    def __init__(self, windows, doors, enginetype, autopilot):\n",
    "        super().__init__(windows, doors, enginetype) #calling parent class attributes\n",
    "        self.autopilot = autopilot\n",
    "\n",
    "    def self_drive(self):\n",
    "        print(f\"The {self.enginetype} car supports self driving: {self.autopilot}\")\n",
    "\n",
    "tesla1 = Tesla(4, 4, \"Electric\", True)"
   ]
  },
  {
   "cell_type": "code",
   "execution_count": 22,
   "metadata": {},
   "outputs": [
    {
     "name": "stdout",
     "output_type": "stream",
     "text": [
      "The Electric car supports self driving: True\n"
     ]
    }
   ],
   "source": [
    "tesla1.self_drive()"
   ]
  },
  {
   "cell_type": "code",
   "execution_count": 27,
   "metadata": {},
   "outputs": [
    {
     "name": "stdout",
     "output_type": "stream",
     "text": [
      "Sahib's dog named Johny says bhaw bhaw\n"
     ]
    }
   ],
   "source": [
    "#Multiple Inheritance\n",
    "\n",
    "class Animal:\n",
    "    def __init__(self,name):\n",
    "        self.name = name\n",
    "\n",
    "    def speak(self):\n",
    "        print(\"subclass must implement this method\")\n",
    "\n",
    "class Pet:\n",
    "    def __init__(self,owner):\n",
    "        self.owner = owner\n",
    "\n",
    "\n",
    "class Dog(Animal, Pet):\n",
    "    def __init__(self, name, owner):\n",
    "        Animal.__init__(self, name)\n",
    "        Pet.__init__(self, owner)\n",
    "\n",
    "    def speak(self):\n",
    "        return f\"{self.owner}'s dog named {self.name} says bhaw bhaw\"\n",
    "\n",
    "\n",
    "dog1 = Dog(\"Johny\", \"Sahib\")\n",
    "\n",
    "print(dog1.speak())"
   ]
  },
  {
   "cell_type": "markdown",
   "metadata": {},
   "source": [
    "### Polymorphism\n",
    "\n",
    "**Polymorphism** is an ability (in OOP) to use a common interface for multiple forms (data types). It is core concept of OOPs, it allows objects  of different classes to be treated as objects of a common superclass. It is achieved through method overriding and interfaces.\n"
   ]
  },
  {
   "cell_type": "code",
   "execution_count": 30,
   "metadata": {},
   "outputs": [
    {
     "name": "stdout",
     "output_type": "stream",
     "text": [
      "Bhaw Bhaw\n",
      "Meow Meow\n"
     ]
    },
    {
     "data": {
      "text/plain": [
       "'Bhaw Bhaw'"
      ]
     },
     "execution_count": 30,
     "metadata": {},
     "output_type": "execute_result"
    }
   ],
   "source": [
    "class Animal:\n",
    "    def speak(self):\n",
    "        return \"Sound of the animal.\"\n",
    "    \n",
    "class Dog(Animal):\n",
    "    def speak(self):\n",
    "        return \"Bhaw Bhaw\"\n",
    "    \n",
    "class Cat(Animal):\n",
    "    def speak(self):\n",
    "        return \"Meow Meow\"\n",
    "    \n",
    "# Function demonstrating polymorphism\n",
    "\n",
    "def animal_speak(animal):\n",
    "    return animal.speak()\n",
    "\n",
    "\n",
    "dog1 = Dog()\n",
    "print(dog1.speak())\n",
    "\n",
    "cat1 = Cat()\n",
    "print(cat1.speak())\n",
    "\n",
    "animal_speak(dog1)"
   ]
  },
  {
   "cell_type": "code",
   "execution_count": 32,
   "metadata": {},
   "outputs": [
    {
     "name": "stdout",
     "output_type": "stream",
     "text": [
      "The area is The area of the square is 16\n",
      "The area is The area of the rectangle is 20\n",
      "The area is The area of the circle is 153.86\n"
     ]
    }
   ],
   "source": [
    "### Polymorphism  with functions and methods\n",
    "\n",
    "class Shape:\n",
    "    def area(self):\n",
    "        return \"The area of the figure\"\n",
    "    \n",
    "class Square(Shape):\n",
    "    def __init__(self, length):\n",
    "        self.length = length\n",
    "        \n",
    "    def area(self):\n",
    "        return f\"The area of the square is {self.length * self.length}\"\n",
    "    \n",
    "class Rectangle(Shape):\n",
    "    def __init__(self, length, width):\n",
    "        self.length = length\n",
    "        self.width = width\n",
    "        \n",
    "    def area(self):\n",
    "        return f\"The area of the rectangle is {self.length * self.width}\"\n",
    "\n",
    "class Circle(Shape):\n",
    "    def __init__(self, radius):\n",
    "        self.radius = radius\n",
    "\n",
    "    def area(self):\n",
    "        return f\"The area of the circle is {3.14 * self.radius * self.radius}\"\n",
    "        \n",
    "\n",
    "def print_area(shape):\n",
    "    print(f\"The area is {shape.area()}\")\n",
    "    \n",
    "square1 = Square(4)\n",
    "rectangle1 = Rectangle(4, 5)\n",
    "circle1 = Circle(7)\n",
    "\n",
    "print_area(square1)\n",
    "print_area(rectangle1)\n",
    "print_area(circle1)\n",
    "\n"
   ]
  },
  {
   "cell_type": "code",
   "execution_count": 35,
   "metadata": {},
   "outputs": [
    {
     "name": "stdout",
     "output_type": "stream",
     "text": [
      "Car engine started\n",
      "Truck engine started\n"
     ]
    }
   ],
   "source": [
    "# Polymorphism with Abstract Base Classes\n",
    "\n",
    "''' \n",
    "ABSs i.e Abstract  Base Classes are used to define common methods for a group of related objects. Derived classes can implement \n",
    "particular methods, promoting consistency across different implementations.\n",
    "'''\n",
    "\n",
    "from abc import  ABC, abstractmethod\n",
    "\n",
    "class Vehicle(ABC):\n",
    "    @abstractmethod\n",
    "    def start_engine(self):\n",
    "        pass\n",
    "\n",
    "class Car(Vehicle):\n",
    "    def start_engine(self):\n",
    "        return \"Car engine started\"\n",
    "    \n",
    "class Truck(Vehicle):\n",
    "    def start_engine(self):\n",
    "        return \"Truck engine started\"\n",
    "    \n",
    "def start_vehicle(vehicle):\n",
    "    print(vehicle.start_engine())\n",
    "#create objects\n",
    "\n",
    "car1 = Car()\n",
    "truck1 = Truck()\n",
    "\n",
    "start_vehicle(car1)\n",
    "start_vehicle(truck1)"
   ]
  },
  {
   "cell_type": "markdown",
   "metadata": {},
   "source": [
    "### Encapsulation\n",
    "\n",
    "**Encapsulation** is one of the fundamental concepts in object-oriented programming (OOP). It describes the idea of wrapping data and the methods that work on data within one unit. This puts restrictions on accessing variables and methods directly and can prevent the accidental modification of data. To prevent accidental change, an object’s variable can only be changed by an object’s method. Those types of variables are known as private variable. A class is an example of encapsulation as it encapsulates all the data that is member functions, variables, etc."
   ]
  },
  {
   "cell_type": "code",
   "execution_count": 41,
   "metadata": {},
   "outputs": [
    {
     "data": {
      "text/plain": [
       "'Sahib'"
      ]
     },
     "execution_count": 41,
     "metadata": {},
     "output_type": "execute_result"
    }
   ],
   "source": [
    "class Person:\n",
    "    def __init__(self,name,age):\n",
    "        # These are Public Variables (Public Access Modifiers)\n",
    "        self.name = name\n",
    "        self.age = age \n",
    "\n",
    "def get_name(person):\n",
    "    return person.name\n",
    "\n",
    "person = Person(\"Sahib\", 20)\n",
    "get_name(person)"
   ]
  },
  {
   "cell_type": "code",
   "execution_count": 43,
   "metadata": {},
   "outputs": [
    {
     "ename": "AttributeError",
     "evalue": "'Person' object has no attribute '__name'",
     "output_type": "error",
     "traceback": [
      "\u001b[1;31m---------------------------------------------------------------------------\u001b[0m",
      "\u001b[1;31mAttributeError\u001b[0m                            Traceback (most recent call last)",
      "Cell \u001b[1;32mIn[43], line 14\u001b[0m\n\u001b[0;32m     11\u001b[0m     \u001b[38;5;28;01mreturn\u001b[39;00m person\u001b[38;5;241m.\u001b[39m__name\n\u001b[0;32m     13\u001b[0m person \u001b[38;5;241m=\u001b[39m Person(\u001b[38;5;124m\"\u001b[39m\u001b[38;5;124mSahib\u001b[39m\u001b[38;5;124m\"\u001b[39m, \u001b[38;5;241m20\u001b[39m, \u001b[38;5;124m\"\u001b[39m\u001b[38;5;124mMale\u001b[39m\u001b[38;5;124m\"\u001b[39m)\n\u001b[1;32m---> 14\u001b[0m \u001b[43mget_name\u001b[49m\u001b[43m(\u001b[49m\u001b[43mperson\u001b[49m\u001b[43m)\u001b[49m\n",
      "Cell \u001b[1;32mIn[43], line 11\u001b[0m, in \u001b[0;36mget_name\u001b[1;34m(person)\u001b[0m\n\u001b[0;32m     10\u001b[0m \u001b[38;5;28;01mdef\u001b[39;00m \u001b[38;5;21mget_name\u001b[39m(person):\n\u001b[1;32m---> 11\u001b[0m     \u001b[38;5;28;01mreturn\u001b[39;00m \u001b[43mperson\u001b[49m\u001b[38;5;241;43m.\u001b[39;49m\u001b[43m__name\u001b[49m\n",
      "\u001b[1;31mAttributeError\u001b[0m: 'Person' object has no attribute '__name'"
     ]
    }
   ],
   "source": [
    "#Use of getter and setter\n",
    "\n",
    "class Person:\n",
    "    def __init__(self,name,age,gender):\n",
    "        # These are Private Variables (Private Access Modifiers)\n",
    "        self.__name = name\n",
    "        self.__age = age \n",
    "        self.gender = gender\n",
    "\n",
    "def get_name(person):\n",
    "    return person.__name\n",
    "\n",
    "person = Person(\"Sahib\", 20, \"Male\")\n",
    "get_name(person)"
   ]
  },
  {
   "cell_type": "code",
   "execution_count": 46,
   "metadata": {},
   "outputs": [
    {
     "name": "stdout",
     "output_type": "stream",
     "text": [
      "SP\n"
     ]
    }
   ],
   "source": [
    "\n",
    "class Person:\n",
    "    def __init__(self,name,age,gender):\n",
    "        self._name = name\n",
    "        self._age = age \n",
    "        self.gender = gender\n",
    "\n",
    "class Employee(Person):\n",
    "    def __init__(self, name, age, gender):\n",
    "        super().__init__(name, age, gender)\n",
    "\n",
    "employee=Employee(\"SP\", 20, \"Male\")\n",
    "print(employee._name)"
   ]
  },
  {
   "cell_type": "code",
   "execution_count": 51,
   "metadata": {},
   "outputs": [
    {
     "name": "stdout",
     "output_type": "stream",
     "text": [
      "Sahib\n",
      "20\n",
      "30\n"
     ]
    }
   ],
   "source": [
    "#Use of getter and setter\n",
    "class Person:\n",
    "    def __init__(self,name,age):\n",
    "        self.__name = name\n",
    "        self.__age = age \n",
    "\n",
    "    def get_name(self):\n",
    "        return self.__name\n",
    "    \n",
    "    def set_name(self, name):\n",
    "        self.__name = name\n",
    "\n",
    "    def get_age(self):\n",
    "        return self.__age\n",
    "    \n",
    "    def set_age(self, age):\n",
    "        if age > 0:\n",
    "            self.__age = age\n",
    "        else:\n",
    "            print(\"Age cannot be negative\")\n",
    "\n",
    "person = Person(\"Sahib\", 20, )\n",
    "\n",
    "#access and modify\n",
    "\n",
    "print(person.get_name())\n",
    "print(person.get_age())\n",
    "\n",
    "person.set_age(30)\n",
    "print(person.get_age())\n",
    "\n",
    "\n"
   ]
  },
  {
   "cell_type": "markdown",
   "metadata": {},
   "source": [
    "### Abstraction\n",
    "- Concept of hiding complex implementation details and showing only necessary features of an object. This helps in reducing programming complexity and effort.\n"
   ]
  },
  {
   "cell_type": "code",
   "execution_count": 52,
   "metadata": {},
   "outputs": [
    {
     "name": "stdout",
     "output_type": "stream",
     "text": [
      "Car engine started\n"
     ]
    }
   ],
   "source": [
    "from abc import ABC, abstractmethod\n",
    "\n",
    "class Vehicle(ABC):\n",
    "    def drive(self):\n",
    "        print(\"Driving a vehicle\")\n",
    "\n",
    "    @abstractmethod\n",
    "    def start_engine(self):\n",
    "        pass\n",
    "\n",
    "class Car(Vehicle):\n",
    "    def start_engine(self):\n",
    "        print(\"Car engine started\")\n",
    "\n",
    "def operate_vehicle(vehicle):\n",
    "    vehicle.start_engine()\n",
    "\n",
    "car1 = Car()\n",
    "operate_vehicle(car1)\n"
   ]
  },
  {
   "cell_type": "markdown",
   "metadata": {},
   "source": [
    "### Magic Methods\n",
    "- Magic methods are special methods which have double underscores at the beginning and end of their names. They are also known as Dunder methods. Magic methods are not meant to be invoked directly by you, but the invocation happens internally from the class on a certain action. For example, when you add two numbers using the + operator, internally, the __add__() method will be called.\n"
   ]
  },
  {
   "cell_type": "code",
   "execution_count": 54,
   "metadata": {},
   "outputs": [
    {
     "data": {
      "text/plain": [
       "'\\nExamples:\\n\\n    - __init__ : Constructor method\\n    - __str__ : Method to return string representation of object\\n    - __len__ : Method to return length of object\\n    - __del__ : Destructor method\\n'"
      ]
     },
     "execution_count": 54,
     "metadata": {},
     "output_type": "execute_result"
    }
   ],
   "source": [
    "\"\"\"\n",
    "Examples:\n",
    "\n",
    "    - __init__ : Constructor method\n",
    "    - __str__ : Method to return string representation of object\n",
    "    - __len__ : Method to return length of object\n",
    "    - __del__ : Destructor method\n",
    "\"\"\""
   ]
  },
  {
   "cell_type": "code",
   "execution_count": 55,
   "metadata": {},
   "outputs": [
    {
     "data": {
      "text/plain": [
       "['__class__',\n",
       " '__delattr__',\n",
       " '__dict__',\n",
       " '__dir__',\n",
       " '__doc__',\n",
       " '__eq__',\n",
       " '__format__',\n",
       " '__ge__',\n",
       " '__getattribute__',\n",
       " '__getstate__',\n",
       " '__gt__',\n",
       " '__hash__',\n",
       " '__init__',\n",
       " '__init_subclass__',\n",
       " '__le__',\n",
       " '__lt__',\n",
       " '__module__',\n",
       " '__ne__',\n",
       " '__new__',\n",
       " '__reduce__',\n",
       " '__reduce_ex__',\n",
       " '__repr__',\n",
       " '__setattr__',\n",
       " '__sizeof__',\n",
       " '__str__',\n",
       " '__subclasshook__',\n",
       " '__weakref__']"
      ]
     },
     "execution_count": 55,
     "metadata": {},
     "output_type": "execute_result"
    }
   ],
   "source": [
    "class Person:\n",
    "    pass\n",
    "\n",
    "person = Person()\n",
    "dir(person)"
   ]
  },
  {
   "cell_type": "code",
   "execution_count": 56,
   "metadata": {},
   "outputs": [
    {
     "name": "stdout",
     "output_type": "stream",
     "text": [
      "<__main__.Person object at 0x0000027AE8F74A70>\n"
     ]
    }
   ],
   "source": [
    "print(person) # from __str__ magic method"
   ]
  },
  {
   "cell_type": "code",
   "execution_count": 58,
   "metadata": {},
   "outputs": [
    {
     "name": "stdout",
     "output_type": "stream",
     "text": [
      "<__main__.Person object at 0x0000027AE765A060>\n",
      "Sahib\n",
      "20\n"
     ]
    }
   ],
   "source": [
    "# Basic Methods\n",
    "\n",
    "class Person:\n",
    "    def __init__(self,name,age):\n",
    "        self.name = name\n",
    "        self.age = age\n",
    "\n",
    "\n",
    "person = Person(\"Sahib\", 20)\n",
    "print(person)\n",
    "print(person.name)\n",
    "print(person.age)\n"
   ]
  },
  {
   "cell_type": "code",
   "execution_count": 61,
   "metadata": {},
   "outputs": [
    {
     "name": "stdout",
     "output_type": "stream",
     "text": [
      "Name: Sahib, Age: 20\n",
      "Person('Sahib', 20)\n"
     ]
    }
   ],
   "source": [
    "\n",
    "# __str__ method\n",
    "# __repr__ method\n",
    "\n",
    "class Person:\n",
    "    def __init__(self,name,age):\n",
    "        self.name = name\n",
    "        self.age = age\n",
    "\n",
    "    def __str__(self):\n",
    "        return f\"Name: {self.name}, Age: {self.age}\"\n",
    "    \n",
    "    def __repr__(self):\n",
    "        return f\"Person('{self.name}', {self.age})\"\n",
    "        \n",
    "    \n",
    "person = Person(\"Sahib\", 20)\n",
    "print(person)\n",
    "print(repr(person))"
   ]
  },
  {
   "cell_type": "markdown",
   "metadata": {},
   "source": [
    "### Operator Overloading"
   ]
  },
  {
   "cell_type": "code",
   "execution_count": 62,
   "metadata": {},
   "outputs": [
    {
     "data": {
      "text/plain": [
       "'\\n__add__(self,other): Adds two objects using + operator\\n__sub__(self,other): Subtracts two objects using - operator\\n__mul__(self,other): Multiplies two objects using * operator\\n__truediv__(self,other): Divides two objects using / operator\\n__floordiv__(self,other): Divides two objects using // operator\\n__eq__(self,other): Checks if two objects are equal using == operator\\n__lt__(self,other): Checks if one object is less than other using < operator\\n__gt__(self,other): Checks if one object is greater than other using > operator\\n'"
      ]
     },
     "execution_count": 62,
     "metadata": {},
     "output_type": "execute_result"
    }
   ],
   "source": [
    "\"\"\"\n",
    "__add__(self,other): Adds two objects using + operator\n",
    "__sub__(self,other): Subtracts two objects using - operator\n",
    "__mul__(self,other): Multiplies two objects using * operator\n",
    "__truediv__(self,other): Divides two objects using / operator\n",
    "__floordiv__(self,other): Divides two objects using // operator\n",
    "__eq__(self,other): Checks if two objects are equal using == operator\n",
    "__lt__(self,other): Checks if one object is less than other using < operator\n",
    "__gt__(self,other): Checks if one object is greater than other using > operator\n",
    "\"\"\""
   ]
  },
  {
   "cell_type": "code",
   "execution_count": 66,
   "metadata": {},
   "outputs": [
    {
     "name": "stdout",
     "output_type": "stream",
     "text": [
      "Vector(6, 8)\n",
      "Vector(-2, -2)\n",
      "Vector(8, 15)\n",
      "False\n"
     ]
    }
   ],
   "source": [
    "class Vector:\n",
    "    def __init__(self,x,y):\n",
    "        self.x = x\n",
    "        self.y = y\n",
    "\n",
    "    def __add__(self, other):\n",
    "        return Vector(self.x + other.x, self.y + other.y)\n",
    "    \n",
    "    def __sub__(self, other):\n",
    "        return Vector(self.x - other.x, self.y - other.y)\n",
    "    \n",
    "    def __mul__(self, other):\n",
    "        return Vector(self.x * other.x, self.y * other.y)\n",
    "    \n",
    "    def __eq__(self, other):\n",
    "        return self.x == other.x and self.y == other.y\n",
    "    \n",
    "    def __repr__(self):\n",
    "        return f\"Vector({self.x}, {self.y})\"\n",
    "    \n",
    "vector1 = Vector(2,3)\n",
    "vector2 = Vector(4,5)\n",
    "\n",
    "print(vector1 + vector2)\n",
    "print(vector1 - vector2)\n",
    "print(vector1 * vector2)\n",
    "print(vector1 == vector2)"
   ]
  },
  {
   "cell_type": "code",
   "execution_count": 67,
   "metadata": {},
   "outputs": [
    {
     "name": "stdout",
     "output_type": "stream",
     "text": [
      "3 + 7i\n",
      "1 + -1i\n",
      "-10 + 11i\n",
      "0.8235294117647058 + -0.29411764705882354i\n",
      "False\n"
     ]
    }
   ],
   "source": [
    "class ComplexNumber:\n",
    "    def __init__(self, real, imag):\n",
    "        self.real = real\n",
    "        self.imag = imag\n",
    "\n",
    "    def __add__(self, other):\n",
    "        return ComplexNumber(self.real + other.real, self.imag + other.imag)\n",
    "\n",
    "    def __sub__(self, other):\n",
    "        return ComplexNumber(self.real - other.real, self.imag - other.imag)\n",
    "\n",
    "    def __mul__(self, other):\n",
    "        real_part = self.real * other.real - self.imag * other.imag\n",
    "        imag_part = self.real * other.imag + self.imag * other.real\n",
    "        return ComplexNumber(real_part, imag_part)\n",
    "\n",
    "    def __truediv__(self, other):\n",
    "        denominator = other.real**2 + other.imag**2\n",
    "        real_part = (self.real * other.real + self.imag * other.imag) / denominator\n",
    "        imag_part = (self.imag * other.real - self.real * other.imag) / denominator\n",
    "        return ComplexNumber(real_part, imag_part)\n",
    "\n",
    "    def __eq__(self, other):\n",
    "        return self.real == other.real and self.imag == other.imag\n",
    "\n",
    "    def __repr__(self):\n",
    "        return f\"{self.real} + {self.imag}i\"\n",
    "\n",
    "c1 = ComplexNumber(2, 3)\n",
    "c2 = ComplexNumber(1, 4)\n",
    "\n",
    "print(c1 + c2)  \n",
    "print(c1 - c2)  \n",
    "print(c1 * c2)  \n",
    "print(c1 / c2)  \n",
    "print(c1 == c2) "
   ]
  }
 ],
 "metadata": {
  "kernelspec": {
   "display_name": "Python 3",
   "language": "python",
   "name": "python3"
  },
  "language_info": {
   "codemirror_mode": {
    "name": "ipython",
    "version": 3
   },
   "file_extension": ".py",
   "mimetype": "text/x-python",
   "name": "python",
   "nbconvert_exporter": "python",
   "pygments_lexer": "ipython3",
   "version": "3.12.0"
  }
 },
 "nbformat": 4,
 "nbformat_minor": 2
}
