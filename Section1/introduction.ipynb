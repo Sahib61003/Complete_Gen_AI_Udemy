{
 "cells": [
  {
   "cell_type": "markdown",
   "metadata": {},
   "source": [
    "## Generative AI Course with Langchain\n",
    "\n",
    "- Going to create RAGs\n",
    "- Going to create a chatbot\n",
    "- Going to create search Engine\n",
    "- Going to create a summarizer\n",
    "- Going to create 13+ End to End Projects\n",
    "\n",
    "#### **WORKFLOW of Course**\n",
    "\n",
    "- Python Programming (Basic to Advanced)\n",
    "- Pre-requisites for Gen AI: NLP in Deep Learning (RNN, LSTM, GRU, GRU RNN, Bidirectional RNN etc)\n",
    "- Encoder Decoder Mathematical Intuition\n",
    "- Transformer Architecture and Attention Mechanism (BERT)\n",
    "- Understanding of LLM Models\n",
    "- Langchain Ecosystem \n",
    "- Open Source LLM Models\n",
    "- Understanding of Vector DB, Retrievers, Text Summarization, Chat with SQL, Chats with message history\n",
    "- Understanding of RAGs\n",
    "- Deployment Techniques (mostly with free resources)\n",
    "- Fine Tuning Techniques\n",
    "- GenAI in AWS \n",
    "- Nvidia NIM\n",
    "- CrewAI Library\n",
    "- OpenAI, Gemma, Llama3, Anthropic, CodeLama, HuggingFace etc\n",
    "- GROQ Infrastructure\n",
    "\n"
   ]
  },
  {
   "cell_type": "markdown",
   "metadata": {},
   "source": [
    "### BASIC Python:"
   ]
  },
  {
   "cell_type": "code",
   "execution_count": 2,
   "metadata": {},
   "outputs": [
    {
     "name": "stdout",
     "output_type": "stream",
     "text": [
      "Sahib\n",
      "Krish\n",
      "Name is Sahib\n"
     ]
    }
   ],
   "source": [
    "# Syntax Rules\n",
    "''' \n",
    "1. Case Senstivity - Python follows\n",
    "2. Indentation - Python uses indentation to define the block of code\n",
    "'''\n",
    "\n",
    "# Example of Case Senstivity\n",
    "Name = \"Krish\"\n",
    "name = \"Sahib\"\n",
    "\n",
    "print(name)\n",
    "print(Name)\n",
    "\n",
    "# Example of Indentation\n",
    "if name == \"Sahib\":\n",
    "    print(\"Name is Sahib\")\n",
    "else:\n",
    "    print(\"Name is something else\")"
   ]
  },
  {
   "cell_type": "code",
   "execution_count": 1,
   "metadata": {},
   "outputs": [
    {
     "name": "stdout",
     "output_type": "stream",
     "text": [
      "55\n"
     ]
    }
   ],
   "source": [
    "# Line Continuation\n",
    "\n",
    "a = 1 + 2 + 3 + 4 + 5 + \\\n",
    "    6 + 7 + 8 + 9 + 10\n",
    "\n",
    "print(a)"
   ]
  },
  {
   "cell_type": "code",
   "execution_count": 2,
   "metadata": {},
   "outputs": [
    {
     "name": "stdout",
     "output_type": "stream",
     "text": [
      "10 20 30\n"
     ]
    }
   ],
   "source": [
    "# Multiple Statements on a single line\n",
    "a = 10; b = 20; c = 30\n",
    "print(a, b, c)  # Output: 10 20 30"
   ]
  },
  {
   "cell_type": "code",
   "execution_count": 4,
   "metadata": {},
   "outputs": [
    {
     "name": "stdout",
     "output_type": "stream",
     "text": [
      "<class 'int'>\n",
      "<class 'str'>\n"
     ]
    }
   ],
   "source": [
    "# Semantics Understanding\n",
    "\n",
    "age = 32 # kernal automatically understands it is integer value\n",
    "name = \"Krish\" # kernal automatically understands it is string value\n",
    "\n",
    "print(type(age))\n",
    "print(type(name))\n"
   ]
  },
  {
   "cell_type": "code",
   "execution_count": 5,
   "metadata": {},
   "outputs": [
    {
     "name": "stdout",
     "output_type": "stream",
     "text": [
      "5 is of type <class 'int'>\n",
      "2.0 is of type <class 'float'>\n",
      "(1+2j) is type of <class 'complex'>\n",
      "This is a string\n",
      "[1, 2, 3, 4, 5]\n",
      "1\n",
      "[5, 4, 3, 2, 1]\n"
     ]
    }
   ],
   "source": [
    "#Types of Variables\n",
    "\n",
    "# 1. Numbers\n",
    "# 2. String\n",
    "# 3. List\n",
    "\n",
    "# Numbers\n",
    "a = 5\n",
    "print(a, \"is of type\", type(a))\n",
    "\n",
    "a = 2.0\n",
    "print(a, \"is of type\", type(a))\n",
    "\n",
    "a = 1+2j\n",
    "print(a, \"is type of\", type(a))\n",
    "\n",
    "# String\n",
    "\n",
    "a = \"This is a string\"\n",
    "print(a)\n",
    "\n",
    "# List\n",
    "a = [1, 2, 3, 4, 5]\n",
    "print(a)\n",
    "print(a[0])\n",
    "print(a[::-1])\n",
    "\n"
   ]
  },
  {
   "cell_type": "code",
   "execution_count": 8,
   "metadata": {},
   "outputs": [
    {
     "name": "stdout",
     "output_type": "stream",
     "text": [
      "My name is Sahib Preet Singh\n"
     ]
    }
   ],
   "source": [
    "# Naming Conventions:\n",
    "'''\n",
    "1. Variable names can be of any length\n",
    "2. Variable names can contain alphabets and numbers\n",
    "3. Variable names can contain underscore\n",
    "4. Variable names cannot start with a number\n",
    "5. Variable names are case sensitive\n",
    "6. Variables names should be descriptive\n",
    "'''\n",
    "\n",
    "first_name = \"Sahib\"\n",
    "middle_name = \"Preet\"\n",
    "last_name = \"Singh\"\n",
    "\n",
    "print(\"My name is\", first_name, middle_name, last_name)"
   ]
  },
  {
   "cell_type": "code",
   "execution_count": null,
   "metadata": {},
   "outputs": [],
   "source": []
  }
 ],
 "metadata": {
  "kernelspec": {
   "display_name": "Python 3",
   "language": "python",
   "name": "python3"
  },
  "language_info": {
   "codemirror_mode": {
    "name": "ipython",
    "version": 3
   },
   "file_extension": ".py",
   "mimetype": "text/x-python",
   "name": "python",
   "nbconvert_exporter": "python",
   "pygments_lexer": "ipython3",
   "version": "3.12.0"
  }
 },
 "nbformat": 4,
 "nbformat_minor": 2
}
