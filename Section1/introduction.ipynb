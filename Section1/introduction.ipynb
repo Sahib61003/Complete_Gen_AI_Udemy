{
 "cells": [
  {
   "cell_type": "markdown",
   "metadata": {},
   "source": [
    "## Generative AI Course with Langchain\n",
    "\n",
    "- Going to create RAGs\n",
    "- Going to create a chatbot\n",
    "- Going to create search Engine\n",
    "- Going to create a summarizer\n",
    "- Going to create 13+ End to End Projects\n",
    "\n",
    "#### **WORKFLOW of Course**\n",
    "\n",
    "- Python Programming (Basic to Advanced)\n",
    "- Pre-requisites for Gen AI: NLP in Deep Learning (RNN, LSTM, GRU, GRU RNN, Bidirectional RNN etc)\n",
    "- Encoder Decoder Mathematical Intuition\n",
    "- Transformer Architecture and Attention Mechanism (BERT)\n",
    "- Understanding of LLM Models\n",
    "- Langchain Ecosystem \n",
    "- Open Source LLM Models\n",
    "- Understanding of Vector DB, Retrievers, Text Summarization, Chat with SQL, Chats with message history\n",
    "- Understanding of RAGs\n",
    "- Deployment Techniques (mostly with free resources)\n",
    "- Fine Tuning Techniques\n",
    "- GenAI in AWS \n",
    "- Nvidia NIM\n",
    "- CrewAI Library\n",
    "- OpenAI, Gemma, Llama3, Anthropic, CodeLama, HuggingFace etc\n",
    "- GROQ Infrastructure\n",
    "\n"
   ]
  },
  {
   "cell_type": "markdown",
   "metadata": {},
   "source": [
    "### BASIC Python:"
   ]
  },
  {
   "cell_type": "code",
   "execution_count": 1,
   "metadata": {},
   "outputs": [
    {
     "name": "stdout",
     "output_type": "stream",
     "text": [
      "Krish\n",
      "Krishna\n"
     ]
    }
   ],
   "source": [
    "# Syntax Rules\n",
    "''' \n",
    "1. Case Senstivity - Python follows\n",
    "2. Indentation - Python uses indentation to define the block of code\n",
    "'''\n",
    "\n",
    "# Example of Case Senstivity\n",
    "Name = \"Krish\"\n",
    "name = \"Sahib\"\n",
    "\n",
    "print(name)\n",
    "print(Name)\n",
    "\n",
    "# Example of Indentation\n",
    "\n",
    "if name == \"Sahib\":\n",
    "    print(\"Name is Sahib\")\n",
    "else:\n",
    "    print(\"Name is something else\")"
   ]
  },
  {
   "cell_type": "code",
   "execution_count": null,
   "metadata": {},
   "outputs": [],
   "source": []
  }
 ],
 "metadata": {
  "kernelspec": {
   "display_name": "Python 3",
   "language": "python",
   "name": "python3"
  },
  "language_info": {
   "codemirror_mode": {
    "name": "ipython",
    "version": 3
   },
   "file_extension": ".py",
   "mimetype": "text/x-python",
   "name": "python",
   "nbconvert_exporter": "python",
   "pygments_lexer": "ipython3",
   "version": "3.12.0"
  }
 },
 "nbformat": 4,
 "nbformat_minor": 2
}
